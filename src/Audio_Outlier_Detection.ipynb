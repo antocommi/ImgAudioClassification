{
  "nbformat": 4,
  "nbformat_minor": 0,
  "metadata": {
    "colab": {
      "name": "Audio_Outlier_Detection.ipynb",
      "provenance": [],
      "machine_shape": "hm"
    },
    "kernelspec": {
      "name": "python3",
      "display_name": "Python 3"
    }
  },
  "cells": [
    {
      "cell_type": "code",
      "metadata": {
        "id": "XuyhFQi9JmB2",
        "colab_type": "code",
        "colab": {
          "base_uri": "https://localhost:8080/",
          "height": 234
        },
        "outputId": "e06d888f-3136-4ac8-f37b-100a8757ab60"
      },
      "source": [
        "!pip install librosa\n",
        "import os\n",
        "from PIL import Image\n",
        "import librosa\n",
        "import glob\n",
        "import time\n",
        "import numpy as np\n",
        "import pandas as pd \n",
        "import tensorflow as tf\n",
        "import keras\n",
        "from sklearn.metrics import roc_curve, auc"
      ],
      "execution_count": 1,
      "outputs": [
        {
          "output_type": "stream",
          "text": [
            "Requirement already satisfied: librosa in /usr/local/lib/python3.6/dist-packages (0.6.3)\n",
            "Requirement already satisfied: joblib>=0.12 in /usr/local/lib/python3.6/dist-packages (from librosa) (0.15.1)\n",
            "Requirement already satisfied: scikit-learn!=0.19.0,>=0.14.0 in /usr/local/lib/python3.6/dist-packages (from librosa) (0.22.2.post1)\n",
            "Requirement already satisfied: decorator>=3.0.0 in /usr/local/lib/python3.6/dist-packages (from librosa) (4.4.2)\n",
            "Requirement already satisfied: scipy>=1.0.0 in /usr/local/lib/python3.6/dist-packages (from librosa) (1.4.1)\n",
            "Requirement already satisfied: resampy>=0.2.0 in /usr/local/lib/python3.6/dist-packages (from librosa) (0.2.2)\n",
            "Requirement already satisfied: numba>=0.38.0 in /usr/local/lib/python3.6/dist-packages (from librosa) (0.48.0)\n",
            "Requirement already satisfied: numpy>=1.8.0 in /usr/local/lib/python3.6/dist-packages (from librosa) (1.18.5)\n",
            "Requirement already satisfied: six>=1.3 in /usr/local/lib/python3.6/dist-packages (from librosa) (1.12.0)\n",
            "Requirement already satisfied: audioread>=2.0.0 in /usr/local/lib/python3.6/dist-packages (from librosa) (2.1.8)\n",
            "Requirement already satisfied: setuptools in /usr/local/lib/python3.6/dist-packages (from numba>=0.38.0->librosa) (47.3.1)\n",
            "Requirement already satisfied: llvmlite<0.32.0,>=0.31.0dev0 in /usr/local/lib/python3.6/dist-packages (from numba>=0.38.0->librosa) (0.31.0)\n"
          ],
          "name": "stdout"
        },
        {
          "output_type": "stream",
          "text": [
            "Using TensorFlow backend.\n"
          ],
          "name": "stderr"
        }
      ]
    },
    {
      "cell_type": "code",
      "metadata": {
        "id": "ohsTV0l6KYTv",
        "colab_type": "code",
        "colab": {}
      },
      "source": [
        "%tensorflow_version 2.x\n",
        "import tensorflow as tf\n",
        "print(\"Tensorflow version \" + tf.__version__)\n",
        "\n",
        "try:\n",
        "  tpu = tf.distribute.cluster_resolver.TPUClusterResolver()  # TPU detection\n",
        "  print('Running on TPU ', tpu.cluster_spec().as_dict()['worker'])\n",
        "except ValueError:\n",
        "  raise BaseException('ERROR: Not connected to a TPU runtime; please see the previous cell in this notebook for instructions!')\n",
        "\n",
        "tf.config.experimental_connect_to_cluster(tpu)\n",
        "tf.tpu.experimental.initialize_tpu_system(tpu)\n",
        "tpu_strategy = tf.distribute.experimental.TPUStrategy(tpu)"
      ],
      "execution_count": null,
      "outputs": []
    },
    {
      "cell_type": "code",
      "metadata": {
        "id": "glTKc288Kcam",
        "colab_type": "code",
        "colab": {
          "base_uri": "https://localhost:8080/",
          "height": 50
        },
        "outputId": "d0483355-b826-4ce9-d56b-02096703f97e"
      },
      "source": [
        "dataset_path = \"/content/drive/My Drive/img.pkl\"\n",
        "res = pd.read_pickle(dataset_path)\n",
        "x = res.drop([\"y\"], axis=1)                     \n",
        "y = res['y']\n",
        "print(x.shape,y.shape)\n",
        "max_data = np.max(x)\n",
        "min_data = np.min(x)\n",
        "data = (x-min_data)/(max_data-min_data+1e-6)\n",
        "data =  data-0.5\n",
        "x = x.to_numpy().reshape(x.shape[0], 128, 44)\n",
        "# mean = x.mean(axis=2).reshape(52117,1,128) \n",
        "# var = x.var(axis=2).reshape(52117,1,128)\n",
        "# data = x - mean\n",
        "# data = data / (var+0.1e-16)\n",
        "\n",
        "print(\"Normalization done!\")\n",
        "x = data.to_numpy().reshape(data.shape[0],128*44)\n",
        "y = y.to_numpy()"
      ],
      "execution_count": 2,
      "outputs": [
        {
          "output_type": "stream",
          "text": [
            "(52117, 5632) (52117,)\n",
            "Normalization done!\n"
          ],
          "name": "stdout"
        }
      ]
    },
    {
      "cell_type": "code",
      "metadata": {
        "id": "ZY3KbZ18JrDL",
        "colab_type": "code",
        "colab": {}
      },
      "source": [
        "d = 128*44\n",
        "ep = 30\n",
        "batches = 35\n",
        "\n",
        "import sys\n",
        "sys.path.extend(['/home/luca/Scrivania/PyDir/CNN'])\n",
        "from keras.models import Sequential\n",
        "from keras.layers import Dense\n",
        "import numpy as np\n",
        "import matplotlib.pylab as plt\n",
        "import pickle\n",
        "import os\n",
        "model = Sequential()\n",
        "model.add(Dense(units=2, activation='relu',input_dim=d))\n",
        "model.add(Dense(units=3*d, activation='relu'))\n",
        "model.add(Dense(units=d, activation='sigmoid'))\n",
        "model.compile(optimizer='adam', loss='mse')"
      ],
      "execution_count": null,
      "outputs": []
    },
    {
      "cell_type": "code",
      "metadata": {
        "id": "BEDmeQSZLTdx",
        "colab_type": "code",
        "colab": {
          "base_uri": "https://localhost:8080/",
          "height": 33
        },
        "outputId": "11cf29f9-9d8e-451c-cf86-256b5894d9f4"
      },
      "source": [
        "x_train = x[y == 29]\n",
        "x_train.shape\n",
        "x_test = x[y != 29]\n",
        "x_test.shape"
      ],
      "execution_count": 4,
      "outputs": [
        {
          "output_type": "execute_result",
          "data": {
            "text/plain": [
              "(50153, 5632)"
            ]
          },
          "metadata": {
            "tags": []
          },
          "execution_count": 4
        }
      ]
    },
    {
      "cell_type": "code",
      "metadata": {
        "id": "hdl4sQR0qT0o",
        "colab_type": "code",
        "colab": {}
      },
      "source": [
        "import numpy as np\n",
        "import matplotlib.pyplot as plt\n",
        "import matplotlib.font_manager\n",
        "from sklearn import svm\n",
        "\n",
        "# fit the model\n",
        "clf = svm.OneClassSVM( kernel=\"poly\",cache_size=1000, degree=4)\n",
        "clf.fit(x_train)\n",
        "scores = clf.decision_function(np.concatenate([x_train,x_test]))\n"
      ],
      "execution_count": 11,
      "outputs": []
    },
    {
      "cell_type": "code",
      "metadata": {
        "id": "kAwA47YLGFI-",
        "colab_type": "code",
        "colab": {
          "base_uri": "https://localhost:8080/",
          "height": 312
        },
        "outputId": "9be23e22-b6ee-4f6f-e6ac-b7d8c9dbcc03"
      },
      "source": [
        "plot_roc_curve(\"occsvm\", 0, scores)"
      ],
      "execution_count": 12,
      "outputs": [
        {
          "output_type": "stream",
          "text": [
            "(52117,) (52117,)\n"
          ],
          "name": "stdout"
        },
        {
          "output_type": "display_data",
          "data": {
            "image/png": "[encoded data removed]",
            "text/plain": [
              "<Figure size 432x288 with 1 Axes>"
            ]
          },
          "metadata": {
            "tags": [],
            "needs_background": "light"
          }
        }
      ]
    },
    {
      "cell_type": "code",
      "metadata": {
        "id": "SiF-LmTQ7OLN",
        "colab_type": "code",
        "colab": {}
      },
      "source": [
        "import pickle\n",
        "name = \"occsvm\"\n",
        "filename = '/content/drive/My Drive/ModelliSalvati/Audio/outlier/'+name+'.sav'\n",
        "pickle.dump(clf, open(filename, 'wb'))"
      ],
      "execution_count": null,
      "outputs": []
    },
    {
      "cell_type": "code",
      "metadata": {
        "id": "FvFY4VJMrOGA",
        "colab_type": "code",
        "colab": {
          "base_uri": "https://localhost:8080/",
          "height": 33
        },
        "outputId": "50baab23-2bda-4e84-a8c7-ba808ce6f68f"
      },
      "source": [
        "y_pred_train = clf.predict(x_train)\n",
        "y_pred_test = clf.predict(x_test)\n",
        "n_error_train = y_pred_train[y_pred_train == -1].size\n",
        "n_error_test = y_pred_test[y_pred_test == -1].size\n",
        "print(n_error_train,n_error_test)"
      ],
      "execution_count": null,
      "outputs": [
        {
          "output_type": "stream",
          "text": [
            "984 33915\n"
          ],
          "name": "stdout"
        }
      ]
    },
    {
      "cell_type": "code",
      "metadata": {
        "id": "4FaKDNQDNpMB",
        "colab_type": "code",
        "colab": {}
      },
      "source": [
        "from sklearn.ensemble import IsolationForest\n",
        "clf = IsolationForest(random_state=0,n_estimators=1000).fit(x_train)\n",
        "scores = clf.decision_function(np.concatenate((x_train,x_test)))\n",
        "import matplotlib.pyplot as plt\n",
        "plot_roc_curve(\"isolation_forest\", 0, scores)"
      ],
      "execution_count": null,
      "outputs": []
    },
    {
      "cell_type": "code",
      "metadata": {
        "id": "yMc79Dw-T0Xl",
        "colab_type": "code",
        "colab": {
          "base_uri": "https://localhost:8080/",
          "height": 312
        },
        "outputId": "4bdfdf8d-1c2d-48d8-b17a-5f833b37c87c"
      },
      "source": [
        ""
      ],
      "execution_count": 10,
      "outputs": [
        {
          "output_type": "stream",
          "text": [
            "(52117,) (52117,)\n"
          ],
          "name": "stdout"
        },
        {
          "output_type": "display_data",
          "data": {
            "image/png": "[encoded data removed]",
            "text/plain": [
              "<Figure size 432x288 with 1 Axes>"
            ]
          },
          "metadata": {
            "tags": [],
            "needs_background": "light"
          }
        }
      ]
    },
    {
      "cell_type": "code",
      "metadata": {
        "id": "6rXo75zeJDVl",
        "colab_type": "code",
        "colab": {}
      },
      "source": [
        "import pickle\n",
        "name = \"isolationforest\"\n",
        "filename = '/content/drive/My Drive/ModelliSalvati/Audio/outlier/'+name+'.sav'\n",
        "pickle.dump(clf, open(filename, 'wb'))"
      ],
      "execution_count": null,
      "outputs": []
    },
    {
      "cell_type": "code",
      "metadata": {
        "id": "s05ZWCOpvTmC",
        "colab_type": "code",
        "colab": {
          "base_uri": "https://localhost:8080/",
          "height": 67
        },
        "outputId": "c7316fcf-7d57-44cb-851b-3dc438a67a6c"
      },
      "source": [
        "from pyod.models.knn import KNN\n",
        "import pyod\n",
        "y_true = np.zeros(x.shape[0])\n",
        "y_true[x_train.shape[0]:]=1\n",
        "# train kNN detector\n",
        "clf_name = 'KNN'\n",
        "clf = KNN(method='mean',n_neighbors=2)\n",
        "clf.fit(x_train)"
      ],
      "execution_count": null,
      "outputs": [
        {
          "output_type": "execute_result",
          "data": {
            "text/plain": [
              "KNN(algorithm='auto', contamination=0.1, leaf_size=30, method='mean',\n",
              "  metric='minkowski', metric_params=None, n_jobs=1, n_neighbors=2, p=2,\n",
              "  radius=1.0)"
            ]
          },
          "metadata": {
            "tags": []
          },
          "execution_count": 38
        }
      ]
    },
    {
      "cell_type": "code",
      "metadata": {
        "id": "dFHLubHzjTWZ",
        "colab_type": "code",
        "colab": {}
      },
      "source": [
        "import pickle\n",
        "name = \"KNN\"\n",
        "filename = '/content/drive/My Drive/ModelliSalvati/Audio/outlier/'+name+'.sav'\n",
        "pickle.dump(clf, open(filename, 'wb'))"
      ],
      "execution_count": null,
      "outputs": []
    },
    {
      "cell_type": "code",
      "metadata": {
        "id": "S5TXgG66kkYy",
        "colab_type": "code",
        "colab": {
          "base_uri": "https://localhost:8080/",
          "height": 67
        },
        "outputId": "4579dff7-5a44-4209-d911-bd62c6472a26"
      },
      "source": [
        "loaded_model = pickle.load(open(filename, 'rb'))\n",
        "#result = loaded_model.score_samples(np.concatenate((x_train,x_test),axis=0))\n",
        "print(loaded_model)"
      ],
      "execution_count": null,
      "outputs": [
        {
          "output_type": "stream",
          "text": [
            "KNN(algorithm='auto', contamination=0.1, leaf_size=30, method='mean',\n",
            "  metric='minkowski', metric_params=None, n_jobs=1, n_neighbors=2, p=2,\n",
            "  radius=1.0)\n"
          ],
          "name": "stdout"
        }
      ]
    },
    {
      "cell_type": "code",
      "metadata": {
        "id": "-RijGQHo7fgE",
        "colab_type": "code",
        "colab": {}
      },
      "source": [
        "# get the prediction on the test data\n",
        "y_test_pred = loaded_model.predict(x_test)  # outlier labels (0 or 1)\n",
        "y_test_scores = loaded_model.decision_function(x_test)  # outlier scores\n",
        "clf_name=\"KNN\""
      ],
      "execution_count": null,
      "outputs": []
    },
    {
      "cell_type": "code",
      "metadata": {
        "id": "m6RnfRDawihN",
        "colab_type": "code",
        "colab": {
          "base_uri": "https://localhost:8080/",
          "height": 33
        },
        "outputId": "f80199b1-a428-43ca-e4e3-7e688112c180"
      },
      "source": [
        "y_train_pred = clf.labels_  # binary labels (0: inliers, 1: outliers)\n",
        "y_train_scores = clf.decision_scores_  # raw outlier scores\n",
        "pyod.utils.data.evaluate_print(clf_name, y_true, np.concatenate((y_train_scores,y_test_scores)))"
      ],
      "execution_count": null,
      "outputs": [
        {
          "output_type": "stream",
          "text": [
            "KNN ROC:0.793, precision @ rank n:0.967\n"
          ],
          "name": "stdout"
        }
      ]
    },
    {
      "cell_type": "code",
      "metadata": {
        "id": "r6BklaRPw711",
        "colab_type": "code",
        "colab": {
          "base_uri": "https://localhost:8080/",
          "height": 33
        },
        "outputId": "c92b4b26-f956-409e-ca6f-38ccd8061045"
      },
      "source": [
        "y_true"
      ],
      "execution_count": null,
      "outputs": [
        {
          "output_type": "execute_result",
          "data": {
            "text/plain": [
              "array([0., 0., 0., ..., 1., 1., 1.])"
            ]
          },
          "metadata": {
            "tags": []
          },
          "execution_count": 47
        }
      ]
    },
    {
      "cell_type": "code",
      "metadata": {
        "colab_type": "code",
        "id": "AMbBThIj7qBv",
        "colab": {
          "base_uri": "https://localhost:8080/",
          "height": 195
        },
        "outputId": "b239c94f-0dbd-4317-a314-2dff7e1968c9"
      },
      "source": [
        "def plot_roc_curve(name, plotted_class, scores):\n",
        "  y_true = np.ones(x.shape[0])\n",
        "  y_true[x_train.shape[0]:]=-1\n",
        "  print(scores.shape,y_true.shape)\n",
        "  # Compute ROC curve and ROC area for each class\n",
        "  fpr = dict()\n",
        "  tpr = dict()\n",
        "  roc_auc = dict()\n",
        "  for i in range(2):\n",
        "      fpr[i], tpr[i], _ = roc_curve(y_true,scores)\n",
        "      roc_auc[i] = auc(fpr[i], tpr[i])\n",
        "\n",
        "  # Compute micro-average ROC curve and ROC area\n",
        "  fpr[\"micro\"], tpr[\"micro\"], _ = roc_curve(y_true.ravel(), scores.ravel())\n",
        "  roc_auc[\"micro\"] = auc(fpr[\"micro\"], tpr[\"micro\"])\n",
        "  plt.figure()\n",
        "  lw = 1 \n",
        "  plt.plot(fpr[plotted_class], tpr[plotted_class], color='darkorange',\n",
        "          lw=lw, label='ROC curve (area = %0.2f)' % roc_auc[plotted_class])\n",
        "  plt.plot([0, 1], [0, 1], color='navy', lw=lw, linestyle='--')\n",
        "  plt.xlim([0.0, 1.0])\n",
        "  plt.ylim([0.0, 1.05])\n",
        "  plt.xlabel('False Positive Rate')\n",
        "  plt.ylabel('True Positive Rate')\n",
        "  plt.title(name)\n",
        "  plt.legend(loc=\"lower right\")\n",
        "  plt.show()\n",
        "plot_roc_curve(\"occsvm\",0,scores)"
      ],
      "execution_count": 8,
      "outputs": [
        {
          "output_type": "error",
          "ename": "NameError",
          "evalue": "ignored",
          "traceback": [
            "\u001b[0;31m---------------------------------------------------------------------------\u001b[0m",
            "\u001b[0;31mNameError\u001b[0m                                 Traceback (most recent call last)",
            "\u001b[0;32m<ipython-input-8-95a354d5f4e8>\u001b[0m in \u001b[0;36m<module>\u001b[0;34m()\u001b[0m\n\u001b[1;32m     26\u001b[0m   \u001b[0mplt\u001b[0m\u001b[0;34m.\u001b[0m\u001b[0mlegend\u001b[0m\u001b[0;34m(\u001b[0m\u001b[0mloc\u001b[0m\u001b[0;34m=\u001b[0m\u001b[0;34m\"lower right\"\u001b[0m\u001b[0;34m)\u001b[0m\u001b[0;34m\u001b[0m\u001b[0;34m\u001b[0m\u001b[0m\n\u001b[1;32m     27\u001b[0m   \u001b[0mplt\u001b[0m\u001b[0;34m.\u001b[0m\u001b[0mshow\u001b[0m\u001b[0;34m(\u001b[0m\u001b[0;34m)\u001b[0m\u001b[0;34m\u001b[0m\u001b[0;34m\u001b[0m\u001b[0m\n\u001b[0;32m---> 28\u001b[0;31m \u001b[0mplot_roc_curve\u001b[0m\u001b[0;34m(\u001b[0m\u001b[0;34m\"occsvm\"\u001b[0m\u001b[0;34m,\u001b[0m\u001b[0;36m0\u001b[0m\u001b[0;34m,\u001b[0m\u001b[0mscores\u001b[0m\u001b[0;34m)\u001b[0m\u001b[0;34m\u001b[0m\u001b[0;34m\u001b[0m\u001b[0m\n\u001b[0m",
            "\u001b[0;31mNameError\u001b[0m: name 'scores' is not defined"
          ]
        }
      ]
    },
    {
      "cell_type": "code",
      "metadata": {
        "id": "AzNS_hA2M9Xd",
        "colab_type": "code",
        "colab": {}
      },
      "source": [
        "scores = clf.decision_function(x)"
      ],
      "execution_count": null,
      "outputs": []
    },
    {
      "cell_type": "code",
      "metadata": {
        "id": "EBZRhuMLTNfN",
        "colab_type": "code",
        "colab": {
          "base_uri": "https://localhost:8080/",
          "height": 67
        },
        "outputId": "94df5790-12fd-4d34-968c-45cdeca84b81"
      },
      "source": [
        "from sklearn.metrics import roc_auc_score\n",
        "\n",
        "roc_auc_score(y_true,scores)"
      ],
      "execution_count": null,
      "outputs": [
        {
          "output_type": "stream",
          "text": [
            "[ -9.80092773 -10.76964818  -9.35127028 ...  -4.72478558  -5.96064597\n",
            "  -6.28924804]\n"
          ],
          "name": "stdout"
        },
        {
          "output_type": "execute_result",
          "data": {
            "text/plain": [
              "0.4446175355144419"
            ]
          },
          "metadata": {
            "tags": []
          },
          "execution_count": 33
        }
      ]
    },
    {
      "cell_type": "code",
      "metadata": {
        "id": "O_mLQg_QKGCI",
        "colab_type": "code",
        "colab": {}
      },
      "source": [
        "history = model.fit(x_train, x_train, epochs=ep, batch_size=batches, validation_data = (x_test, x_test));\n",
        "history_dict = history.history;\n",
        "with open('anomaly.hist','wb') as hist_file:\n",
        "  pickle.dump(history_dict, hist_file);\n",
        "model.save_weights('anomaly');"
      ],
      "execution_count": null,
      "outputs": []
    },
    {
      "cell_type": "code",
      "metadata": {
        "id": "jIbpiSk9RebY",
        "colab_type": "code",
        "colab": {}
      },
      "source": [
        "test_size = x_test.shape[0]\n",
        "outlierness = np.zeros(test_size)\n",
        "\n",
        "for i in range(test_size):\n",
        "    outlierness[i] = model.evaluate(x_test[i].reshape((1,d)),x_test[i].reshape((1,d)),verbose=0)\n",
        "\n",
        "plt.figure(1)\n",
        "plt.plot(outlierness,'.')\n",
        "plt.xlabel('test id')\n",
        "plt.ylabel('outlierness')\n",
        "plt.figure(2)\n",
        "x = np.linalg.norm(x_test,axis=1)\n",
        "plt.plot(x,outlierness,'.')\n",
        "plt.xlabel('norm')\n",
        "plt.ylabel('outlierness')"
      ],
      "execution_count": null,
      "outputs": []
    },
    {
      "cell_type": "code",
      "metadata": {
        "id": "blgOwWB8g7ve",
        "colab_type": "code",
        "colab": {}
      },
      "source": [
        "\n",
        "def plot_roc_curve(name, plotted_class, scores):\n",
        "  y_true = np.ones(x.shape[0])\n",
        "  y_true[x_train.shape[0]:]=-1\n",
        "  print(scores.shape,y_true.shape)\n",
        "  # Compute ROC curve and ROC area for each class\n",
        "  fpr = dict()\n",
        "  tpr = dict()\n",
        "  roc_auc = dict()\n",
        "  for i in range(2):\n",
        "      fpr[i], tpr[i], _ = roc_curve(y_true,scores)\n",
        "      roc_auc[i] = auc(fpr[i], tpr[i])\n",
        "\n",
        "  # Compute micro-average ROC curve and ROC area\n",
        "  fpr[\"micro\"], tpr[\"micro\"], _ = roc_curve(y_true.ravel(), scores.ravel())\n",
        "  roc_auc[\"micro\"] = auc(fpr[\"micro\"], tpr[\"micro\"])\n",
        "  plt.figure()\n",
        "  lw = 1 \n",
        "  plt.plot(fpr[plotted_class], tpr[plotted_class], color='darkorange',\n",
        "          lw=lw, label='ROC curve (area = %0.2f)' % roc_auc[plotted_class])\n",
        "  plt.plot([0, 1], [0, 1], color='navy', lw=lw, linestyle='--')\n",
        "  plt.xlim([0.0, 1.0])\n",
        "  plt.ylim([0.0, 1.05])\n",
        "  plt.xlabel('False Positive Rate')\n",
        "  plt.ylabel('True Positive Rate')\n",
        "  plt.title(name)\n",
        "  plt.legend(loc=\"lower right\")\n",
        "  plt.show()"
      ],
      "execution_count": 6,
      "outputs": []
    }
  ]
}