{
  "nbformat": 4,
  "nbformat_minor": 0,
  "metadata": {
    "colab": {
      "name": "OutlierDetectionImmagini.ipynb",
      "provenance": [],
      "collapsed_sections": []
    },
    "kernelspec": {
      "name": "python3",
      "display_name": "Python 3"
    }
  },
  "cells": [
    {
      "cell_type": "code",
      "metadata": {
        "id": "Z2GNIzcf5hWw",
        "colab_type": "code",
        "colab": {
          "base_uri": "https://localhost:8080/",
          "height": 585
        },
        "outputId": "6832537e-f72f-4ace-e066-d1802f207727"
      },
      "source": [
        "import numpy as np\n",
        "import pandas as pd\n",
        "import matplotlib.pyplot as plt\n",
        "from sklearn.model_selection import train_test_split\n",
        "from sklearn import svm\n",
        "!pip install pyod\n",
        "import pyod"
      ],
      "execution_count": null,
      "outputs": [
        {
          "output_type": "stream",
          "text": [
            "Collecting pyod\n",
            "\u001b[?25l  Downloading https://files.pythonhosted.org/packages/77/4e/5767edaccbfc227914ca774cb6ca9b628a08cbb59b9b4839296953a63d34/pyod-0.8.1.tar.gz (93kB)\n",
            "\r\u001b[K     |███▌                            | 10kB 15.8MB/s eta 0:00:01\r\u001b[K     |███████                         | 20kB 1.7MB/s eta 0:00:01\r\u001b[K     |██████████▌                     | 30kB 2.1MB/s eta 0:00:01\r\u001b[K     |██████████████                  | 40kB 2.4MB/s eta 0:00:01\r\u001b[K     |█████████████████▌              | 51kB 1.9MB/s eta 0:00:01\r\u001b[K     |█████████████████████           | 61kB 2.2MB/s eta 0:00:01\r\u001b[K     |████████████████████████▋       | 71kB 2.4MB/s eta 0:00:01\r\u001b[K     |████████████████████████████    | 81kB 2.6MB/s eta 0:00:01\r\u001b[K     |███████████████████████████████▋| 92kB 2.9MB/s eta 0:00:01\r\u001b[K     |████████████████████████████████| 102kB 2.6MB/s \n",
            "\u001b[?25hCollecting combo\n",
            "  Downloading https://files.pythonhosted.org/packages/0a/2a/61b6ac584e75d8df16dc27962aa5fe99d76b09da5b6710e83d4862c84001/combo-0.1.1.tar.gz\n",
            "Requirement already satisfied: joblib in /usr/local/lib/python3.6/dist-packages (from pyod) (0.15.1)\n",
            "Requirement already satisfied: matplotlib in /usr/local/lib/python3.6/dist-packages (from pyod) (3.2.2)\n",
            "Requirement already satisfied: numpy>=1.13 in /usr/local/lib/python3.6/dist-packages (from pyod) (1.18.5)\n",
            "Requirement already satisfied: numba>=0.35 in /usr/local/lib/python3.6/dist-packages (from pyod) (0.48.0)\n",
            "Requirement already satisfied: scipy>=0.19.1 in /usr/local/lib/python3.6/dist-packages (from pyod) (1.4.1)\n",
            "Requirement already satisfied: scikit_learn>=0.19.1 in /usr/local/lib/python3.6/dist-packages (from pyod) (0.22.2.post1)\n",
            "Requirement already satisfied: six in /usr/local/lib/python3.6/dist-packages (from pyod) (1.12.0)\n",
            "Collecting suod\n",
            "\u001b[?25l  Downloading https://files.pythonhosted.org/packages/a1/87/9170cabe1b5e10a7d095c0e28f2e30e7c1886a13f063de85d3cfacc06f4b/suod-0.0.4.tar.gz (2.1MB)\n",
            "\u001b[K     |████████████████████████████████| 2.1MB 8.2MB/s \n",
            "\u001b[?25hRequirement already satisfied: pyparsing!=2.0.4,!=2.1.2,!=2.1.6,>=2.0.1 in /usr/local/lib/python3.6/dist-packages (from matplotlib->pyod) (2.4.7)\n",
            "Requirement already satisfied: python-dateutil>=2.1 in /usr/local/lib/python3.6/dist-packages (from matplotlib->pyod) (2.8.1)\n",
            "Requirement already satisfied: cycler>=0.10 in /usr/local/lib/python3.6/dist-packages (from matplotlib->pyod) (0.10.0)\n",
            "Requirement already satisfied: kiwisolver>=1.0.1 in /usr/local/lib/python3.6/dist-packages (from matplotlib->pyod) (1.2.0)\n",
            "Requirement already satisfied: setuptools in /usr/local/lib/python3.6/dist-packages (from numba>=0.35->pyod) (47.3.1)\n",
            "Requirement already satisfied: llvmlite<0.32.0,>=0.31.0dev0 in /usr/local/lib/python3.6/dist-packages (from numba>=0.35->pyod) (0.31.0)\n",
            "Building wheels for collected packages: pyod, combo, suod\n",
            "  Building wheel for pyod (setup.py) ... \u001b[?25l\u001b[?25hdone\n",
            "  Created wheel for pyod: filename=pyod-0.8.1-cp36-none-any.whl size=105653 sha256=17640ec30c8ee1b7f43975758d7cc357314b85ce74b4717a33b59e64f16c7c08\n",
            "  Stored in directory: /root/.cache/pip/wheels/2e/ca/18/727e9d98a41f5f4385a97d5b429f3a9c8fbee13f9780c18642\n",
            "  Building wheel for combo (setup.py) ... \u001b[?25l\u001b[?25hdone\n",
            "  Created wheel for combo: filename=combo-0.1.1-cp36-none-any.whl size=42111 sha256=708283de1c6b7b3ebedb8db55882b3bca883fe6101bd1b1fce6fa3eca901e532\n",
            "  Stored in directory: /root/.cache/pip/wheels/55/ec/e5/a2331372c676c467e70c6646e646edf6997d5c4905b8c0f5e6\n",
            "  Building wheel for suod (setup.py) ... \u001b[?25l\u001b[?25hdone\n",
            "  Created wheel for suod: filename=suod-0.0.4-cp36-none-any.whl size=2167157 sha256=ddc3f69599d1dd8aa7cb25695e25d1322cde63f8c93424288f577ecc8e3d0d19\n",
            "  Stored in directory: /root/.cache/pip/wheels/57/55/e5/a4fca65bba231f6d0115059b589148774b41faea25b3f2aa27\n",
            "Successfully built pyod combo suod\n",
            "Installing collected packages: combo, suod, pyod\n",
            "Successfully installed combo-0.1.1 pyod-0.8.1 suod-0.0.4\n"
          ],
          "name": "stdout"
        }
      ]
    },
    {
      "cell_type": "code",
      "metadata": {
        "id": "x2wEL0jY51n7",
        "colab_type": "code",
        "colab": {}
      },
      "source": [
        "# READ DATAFRAME\n",
        "x = pd.read_pickle('/content/drive/My Drive/pickled_dataset/Immagini/x.pkl')\n",
        "y = pd.read_pickle('/content/drive/My Drive/pickled_dataset/Immagini/y.pkl')\n",
        "x = x/255"
      ],
      "execution_count": null,
      "outputs": []
    },
    {
      "cell_type": "code",
      "metadata": {
        "id": "rFeOCw2J52de",
        "colab_type": "code",
        "colab": {}
      },
      "source": [
        "# SAVE DATAFRAME\n",
        "x.to_pickle('/content/drive/My Drive/pickled_dataset/Immagini/x.pkl')\n",
        "y.to_pickle('/content/drive/My Drive/pickled_dataset/Immagini/y.pkl')"
      ],
      "execution_count": null,
      "outputs": []
    },
    {
      "cell_type": "code",
      "metadata": {
        "id": "W4S-651v6G33",
        "colab_type": "code",
        "colab": {
          "base_uri": "https://localhost:8080/",
          "height": 33
        },
        "outputId": "09aa27ef-4a47-43f4-8aea-871d7daaae05"
      },
      "source": [
        "mask = y == 1 \n",
        "x_train = x[mask]\n",
        "x_test = x[mask == False]\n",
        "x_train.shape[0]+x_test.shape[0]"
      ],
      "execution_count": null,
      "outputs": [
        {
          "output_type": "execute_result",
          "data": {
            "text/plain": [
              "5976"
            ]
          },
          "metadata": {
            "tags": []
          },
          "execution_count": 9
        }
      ]
    },
    {
      "cell_type": "code",
      "metadata": {
        "id": "4OvWHOQ8LP4c",
        "colab_type": "code",
        "colab": {}
      },
      "source": [
        "y_test = np.ones(x_test.shape[0])\n",
        "y_train = np.zeros(x_train.shape[0])"
      ],
      "execution_count": null,
      "outputs": []
    },
    {
      "cell_type": "code",
      "metadata": {
        "id": "vyEgFmu3V10B",
        "colab_type": "code",
        "colab": {}
      },
      "source": [
        "from sklearn.metrics import roc_curve, auc\n",
        "def plot_roc_curve(name, plotted_class, scores):\n",
        "  y_true = np.ones(x.shape[0])\n",
        "  y_true[x_train.shape[0]:]=-1\n",
        "  print(scores.shape,y_true.shape)\n",
        "  # Compute ROC curve and ROC area for each class\n",
        "  fpr = dict()\n",
        "  tpr = dict()\n",
        "  roc_auc = dict()\n",
        "  for i in range(2):\n",
        "      fpr[i], tpr[i], _ = roc_curve(y_true,scores)\n",
        "      roc_auc[i] = auc(fpr[i], tpr[i])\n",
        "\n",
        "  # Compute micro-average ROC curve and ROC area\n",
        "  fpr[\"micro\"], tpr[\"micro\"], _ = roc_curve(y_true.ravel(), scores.ravel())\n",
        "  roc_auc[\"micro\"] = auc(fpr[\"micro\"], tpr[\"micro\"])\n",
        "  plt.figure()\n",
        "  lw = 1 \n",
        "  plt.plot(fpr[plotted_class], tpr[plotted_class], color='darkorange',\n",
        "          lw=lw, label='ROC curve (area = %0.2f)' % roc_auc[plotted_class])\n",
        "  plt.plot([0, 1], [0, 1], color='navy', lw=lw, linestyle='--')\n",
        "  plt.xlim([0.0, 1.0])\n",
        "  plt.ylim([0.0, 1.05])\n",
        "  plt.xlabel('False Positive Rate')\n",
        "  plt.ylabel('True Positive Rate')\n",
        "  plt.title(name)\n",
        "  plt.legend(loc=\"lower right\")\n",
        "  plt.show()"
      ],
      "execution_count": null,
      "outputs": []
    },
    {
      "cell_type": "code",
      "metadata": {
        "id": "Nmf2nWZdHfjF",
        "colab_type": "code",
        "colab": {}
      },
      "source": [
        "kernels = ['linear', 'poly', 'rbf', 'sigmoid', 'precomputed']\n",
        "clf = svm.OneClassSVM(degree=5, kernel=\"poly\", gamma='scale')\n",
        "clf.fit(x_train)\n",
        "scores = clf.decision_function(pd.concat([x_train,x_test]))\n"
      ],
      "execution_count": null,
      "outputs": []
    },
    {
      "cell_type": "code",
      "metadata": {
        "id": "21oKe5HR1h5j",
        "colab_type": "code",
        "colab": {
          "base_uri": "https://localhost:8080/",
          "height": 312
        },
        "outputId": "3339d3eb-cadb-4841-d2fc-68dec406facc"
      },
      "source": [
        "plot_roc_curve(\"occsvm\", 0, scores)"
      ],
      "execution_count": null,
      "outputs": [
        {
          "output_type": "stream",
          "text": [
            "(5976,) (5976,)\n"
          ],
          "name": "stdout"
        },
        {
          "output_type": "display_data",
          "data": {
            "image/png": "[encoded data removed]",
            "text/plain": [
              "<Figure size 432x288 with 1 Axes>"
            ]
          },
          "metadata": {
            "tags": [],
            "needs_background": "light"
          }
        }
      ]
    },
    {
      "cell_type": "code",
      "metadata": {
        "id": "-ItfRGo5l6pR",
        "colab_type": "code",
        "colab": {}
      },
      "source": [
        "import pickle\n",
        "name = \"occsvm\"\n",
        "filename = '/content/drive/My Drive/ModelliSalvati/Immagini/outlier/'+name+'.sav'\n",
        "pickle.dump(clf, open(filename, 'wb'))"
      ],
      "execution_count": null,
      "outputs": []
    },
    {
      "cell_type": "code",
      "metadata": {
        "id": "4FaKDNQDNpMB",
        "colab_type": "code",
        "colab": {
          "base_uri": "https://localhost:8080/",
          "height": 312
        },
        "outputId": "5dae706e-c01d-4d7d-8315-ed11e24ca3db"
      },
      "source": [
        "from sklearn.ensemble import IsolationForest\n",
        "clf = IsolationForest(random_state=0,n_estimators=1000,max_samples=0.4,contamination=0).fit(x_train)\n",
        "scores = clf.decision_function(pd.concat([x_train,x_test]))\n",
        "plot_roc_curve(\"isolation_forest\", 0, scores) # 0.82"
      ],
      "execution_count": null,
      "outputs": [
        {
          "output_type": "stream",
          "text": [
            "(5976,) (5976,)\n"
          ],
          "name": "stdout"
        },
        {
          "output_type": "display_data",
          "data": {
            "image/png": "[encoded data removed]",
            "text/plain": [
              "<Figure size 432x288 with 1 Axes>"
            ]
          },
          "metadata": {
            "tags": [],
            "needs_background": "light"
          }
        }
      ]
    },
    {
      "cell_type": "code",
      "metadata": {
        "id": "xO2KvJDVlvfF",
        "colab_type": "code",
        "colab": {}
      },
      "source": [
        "import pickle\n",
        "name = \"isolationforest\"\n",
        "filename = '/content/drive/My Drive/ModelliSalvati/Immagini/outlier/'+name+'.sav'\n",
        "pickle.dump(clf, open(filename, 'wb'))"
      ],
      "execution_count": null,
      "outputs": []
    },
    {
      "cell_type": "code",
      "metadata": {
        "id": "r9nKWRCEbOja",
        "colab_type": "code",
        "colab": {}
      },
      "source": [
        "from pyod.models.knn import KNN\n",
        "\n",
        "# train kNN detector\n",
        "clf_name = 'KNN'\n",
        "clf = KNN(method='mean',n_neighbors=2)\n",
        "clf.fit(x_train)\n",
        "\n",
        "# get the prediction labels and outlier scores of the training data\n",
        "y_train_pred = clf.labels_  # binary labels (0: inliers, 1: outliers)\n",
        "y_train_scores = clf.decision_scores_  # raw outlier scores\n",
        "\n",
        "# get the prediction on the test data\n",
        "y_test_pred = clf.predict(x_test)  # outlier labels (0 or 1)\n",
        "y_test_scores = clf.decision_function(x_test)  # outlier scores"
      ],
      "execution_count": null,
      "outputs": []
    },
    {
      "cell_type": "code",
      "metadata": {
        "id": "iLkVigpPeAWd",
        "colab_type": "code",
        "colab": {
          "base_uri": "https://localhost:8080/",
          "height": 100
        },
        "outputId": "3322a335-8a01-4e82-d043-ccb6402a3c58"
      },
      "source": [
        "import pyod\n",
        "\n",
        "# evaluate and print the results\n",
        "print(\"\\nOn Training Data:\")\n",
        "pyod.utils.data.evaluate_print(clf_name, np.concatenate((y_train,y_test)), np.concatenate((y_train_scores,y_test_scores)))\n",
        "print(\"\\nOn Test Data:\")\n",
        "# pyod.utils.data.evaluate_print(clf_name, y_test, y_test_scores)"
      ],
      "execution_count": null,
      "outputs": [
        {
          "output_type": "stream",
          "text": [
            "\n",
            "On Training Data:\n",
            "KNN ROC:0.8564, precision @ rank n:0.7945\n",
            "\n",
            "On Test Data:\n"
          ],
          "name": "stdout"
        }
      ]
    },
    {
      "cell_type": "code",
      "metadata": {
        "id": "S25qttQM631K",
        "colab_type": "code",
        "colab": {}
      },
      "source": [
        "import pickle\n",
        "name = \"KNN\"\n",
        "filename = '/content/drive/My Drive/ModelliSalvati/Immagini/outlier/'+name+'.sav'\n",
        "pickle.dump(clf, open(filename, 'wb'))"
      ],
      "execution_count": null,
      "outputs": []
    },
    {
      "cell_type": "code",
      "metadata": {
        "id": "sQZ6-BPJOesb",
        "colab_type": "code",
        "colab": {}
      },
      "source": [
        "# mean : 0.846 <- best \n",
        "#    neigh 3 : 0.85\n",
        "# median: 0.840\n"
      ],
      "execution_count": null,
      "outputs": []
    }
  ]
}