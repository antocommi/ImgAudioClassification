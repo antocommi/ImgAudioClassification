{
  "nbformat": 4,
  "nbformat_minor": 0,
  "metadata": {
    "colab": {
      "name": "audio_clf2",
      "provenance": [],
      "collapsed_sections": [],
      "machine_shape": "hm"
    },
    "kernelspec": {
      "name": "python3",
      "display_name": "Python 3"
    },
    "accelerator": "TPU"
  },
  "cells": [
    {
      "cell_type": "code",
      "metadata": {
        "id": "bFSj7y2aHdHy",
        "colab_type": "code",
        "colab": {}
      },
      "source": [
        "#!pip install librosa\n",
        "import os\n",
        "from PIL import Image\n",
        "import librosa\n",
        "import glob\n",
        "import time\n",
        "import numpy as np\n",
        "import pandas as pd\n",
        "import tensorflow as tf\n",
        "\n",
        "# image MFCC 128x44"
      ],
      "execution_count": 2,
      "outputs": []
    },
    {
      "cell_type": "code",
      "metadata": {
        "id": "AGsdai8kKKtQ",
        "colab_type": "code",
        "colab": {
          "base_uri": "https://localhost:8080/",
          "height": 719
        },
        "outputId": "90e3bc76-37a1-420c-9ccb-4749717fa1e1"
      },
      "source": [
        "%tensorflow_version 2.x\n",
        "import tensorflow as tf\n",
        "print(\"Tensorflow version \" + tf.__version__)\n",
        "\n",
        "try:\n",
        "  tpu = tf.distribute.cluster_resolver.TPUClusterResolver()  # TPU detection\n",
        "  print('Running on TPU ', tpu.cluster_spec().as_dict()['worker'])\n",
        "except ValueError:\n",
        "  raise BaseException('ERROR: Not connected to a TPU runtime; please see the previous cell in this notebook for instructions!')\n",
        "\n",
        "tf.config.experimental_connect_to_cluster(tpu)\n",
        "tf.tpu.experimental.initialize_tpu_system(tpu)\n",
        "tpu_strategy = tf.distribute.experimental.TPUStrategy(tpu)"
      ],
      "execution_count": null,
      "outputs": [
        {
          "output_type": "stream",
          "text": [
            "Tensorflow version 2.2.0\n",
            "Running on TPU  ['10.83.13.66:8470']\n",
            "INFO:tensorflow:Initializing the TPU system: grpc://10.83.13.66:8470\n"
          ],
          "name": "stdout"
        },
        {
          "output_type": "stream",
          "text": [
            "INFO:tensorflow:Initializing the TPU system: grpc://10.83.13.66:8470\n"
          ],
          "name": "stderr"
        },
        {
          "output_type": "stream",
          "text": [
            "INFO:tensorflow:Clearing out eager caches\n"
          ],
          "name": "stdout"
        },
        {
          "output_type": "stream",
          "text": [
            "INFO:tensorflow:Clearing out eager caches\n"
          ],
          "name": "stderr"
        },
        {
          "output_type": "stream",
          "text": [
            "INFO:tensorflow:Finished initializing TPU system.\n"
          ],
          "name": "stdout"
        },
        {
          "output_type": "stream",
          "text": [
            "INFO:tensorflow:Finished initializing TPU system.\n"
          ],
          "name": "stderr"
        },
        {
          "output_type": "stream",
          "text": [
            "INFO:tensorflow:Found TPU system:\n"
          ],
          "name": "stdout"
        },
        {
          "output_type": "stream",
          "text": [
            "INFO:tensorflow:Found TPU system:\n"
          ],
          "name": "stderr"
        },
        {
          "output_type": "stream",
          "text": [
            "INFO:tensorflow:*** Num TPU Cores: 8\n"
          ],
          "name": "stdout"
        },
        {
          "output_type": "stream",
          "text": [
            "INFO:tensorflow:*** Num TPU Cores: 8\n"
          ],
          "name": "stderr"
        },
        {
          "output_type": "stream",
          "text": [
            "INFO:tensorflow:*** Num TPU Workers: 1\n"
          ],
          "name": "stdout"
        },
        {
          "output_type": "stream",
          "text": [
            "INFO:tensorflow:*** Num TPU Workers: 1\n"
          ],
          "name": "stderr"
        },
        {
          "output_type": "stream",
          "text": [
            "INFO:tensorflow:*** Num TPU Cores Per Worker: 8\n"
          ],
          "name": "stdout"
        },
        {
          "output_type": "stream",
          "text": [
            "INFO:tensorflow:*** Num TPU Cores Per Worker: 8\n"
          ],
          "name": "stderr"
        },
        {
          "output_type": "stream",
          "text": [
            "INFO:tensorflow:*** Available Device: _DeviceAttributes(/job:localhost/replica:0/task:0/device:CPU:0, CPU, 0, 0)\n"
          ],
          "name": "stdout"
        },
        {
          "output_type": "stream",
          "text": [
            "INFO:tensorflow:*** Available Device: _DeviceAttributes(/job:localhost/replica:0/task:0/device:CPU:0, CPU, 0, 0)\n"
          ],
          "name": "stderr"
        },
        {
          "output_type": "stream",
          "text": [
            "INFO:tensorflow:*** Available Device: _DeviceAttributes(/job:localhost/replica:0/task:0/device:XLA_CPU:0, XLA_CPU, 0, 0)\n"
          ],
          "name": "stdout"
        },
        {
          "output_type": "stream",
          "text": [
            "INFO:tensorflow:*** Available Device: _DeviceAttributes(/job:localhost/replica:0/task:0/device:XLA_CPU:0, XLA_CPU, 0, 0)\n"
          ],
          "name": "stderr"
        },
        {
          "output_type": "stream",
          "text": [
            "INFO:tensorflow:*** Available Device: _DeviceAttributes(/job:worker/replica:0/task:0/device:CPU:0, CPU, 0, 0)\n"
          ],
          "name": "stdout"
        },
        {
          "output_type": "stream",
          "text": [
            "INFO:tensorflow:*** Available Device: _DeviceAttributes(/job:worker/replica:0/task:0/device:CPU:0, CPU, 0, 0)\n"
          ],
          "name": "stderr"
        },
        {
          "output_type": "stream",
          "text": [
            "INFO:tensorflow:*** Available Device: _DeviceAttributes(/job:worker/replica:0/task:0/device:TPU:0, TPU, 0, 0)\n"
          ],
          "name": "stdout"
        },
        {
          "output_type": "stream",
          "text": [
            "INFO:tensorflow:*** Available Device: _DeviceAttributes(/job:worker/replica:0/task:0/device:TPU:0, TPU, 0, 0)\n"
          ],
          "name": "stderr"
        },
        {
          "output_type": "stream",
          "text": [
            "INFO:tensorflow:*** Available Device: _DeviceAttributes(/job:worker/replica:0/task:0/device:TPU:1, TPU, 0, 0)\n"
          ],
          "name": "stdout"
        },
        {
          "output_type": "stream",
          "text": [
            "INFO:tensorflow:*** Available Device: _DeviceAttributes(/job:worker/replica:0/task:0/device:TPU:1, TPU, 0, 0)\n"
          ],
          "name": "stderr"
        },
        {
          "output_type": "stream",
          "text": [
            "INFO:tensorflow:*** Available Device: _DeviceAttributes(/job:worker/replica:0/task:0/device:TPU:2, TPU, 0, 0)\n"
          ],
          "name": "stdout"
        },
        {
          "output_type": "stream",
          "text": [
            "INFO:tensorflow:*** Available Device: _DeviceAttributes(/job:worker/replica:0/task:0/device:TPU:2, TPU, 0, 0)\n"
          ],
          "name": "stderr"
        },
        {
          "output_type": "stream",
          "text": [
            "INFO:tensorflow:*** Available Device: _DeviceAttributes(/job:worker/replica:0/task:0/device:TPU:3, TPU, 0, 0)\n"
          ],
          "name": "stdout"
        },
        {
          "output_type": "stream",
          "text": [
            "INFO:tensorflow:*** Available Device: _DeviceAttributes(/job:worker/replica:0/task:0/device:TPU:3, TPU, 0, 0)\n"
          ],
          "name": "stderr"
        },
        {
          "output_type": "stream",
          "text": [
            "INFO:tensorflow:*** Available Device: _DeviceAttributes(/job:worker/replica:0/task:0/device:TPU:4, TPU, 0, 0)\n"
          ],
          "name": "stdout"
        },
        {
          "output_type": "stream",
          "text": [
            "INFO:tensorflow:*** Available Device: _DeviceAttributes(/job:worker/replica:0/task:0/device:TPU:4, TPU, 0, 0)\n"
          ],
          "name": "stderr"
        },
        {
          "output_type": "stream",
          "text": [
            "INFO:tensorflow:*** Available Device: _DeviceAttributes(/job:worker/replica:0/task:0/device:TPU:5, TPU, 0, 0)\n"
          ],
          "name": "stdout"
        },
        {
          "output_type": "stream",
          "text": [
            "INFO:tensorflow:*** Available Device: _DeviceAttributes(/job:worker/replica:0/task:0/device:TPU:5, TPU, 0, 0)\n"
          ],
          "name": "stderr"
        },
        {
          "output_type": "stream",
          "text": [
            "INFO:tensorflow:*** Available Device: _DeviceAttributes(/job:worker/replica:0/task:0/device:TPU:6, TPU, 0, 0)\n"
          ],
          "name": "stdout"
        },
        {
          "output_type": "stream",
          "text": [
            "INFO:tensorflow:*** Available Device: _DeviceAttributes(/job:worker/replica:0/task:0/device:TPU:6, TPU, 0, 0)\n"
          ],
          "name": "stderr"
        },
        {
          "output_type": "stream",
          "text": [
            "INFO:tensorflow:*** Available Device: _DeviceAttributes(/job:worker/replica:0/task:0/device:TPU:7, TPU, 0, 0)\n"
          ],
          "name": "stdout"
        },
        {
          "output_type": "stream",
          "text": [
            "INFO:tensorflow:*** Available Device: _DeviceAttributes(/job:worker/replica:0/task:0/device:TPU:7, TPU, 0, 0)\n"
          ],
          "name": "stderr"
        },
        {
          "output_type": "stream",
          "text": [
            "INFO:tensorflow:*** Available Device: _DeviceAttributes(/job:worker/replica:0/task:0/device:TPU_SYSTEM:0, TPU_SYSTEM, 0, 0)\n"
          ],
          "name": "stdout"
        },
        {
          "output_type": "stream",
          "text": [
            "INFO:tensorflow:*** Available Device: _DeviceAttributes(/job:worker/replica:0/task:0/device:TPU_SYSTEM:0, TPU_SYSTEM, 0, 0)\n"
          ],
          "name": "stderr"
        },
        {
          "output_type": "stream",
          "text": [
            "INFO:tensorflow:*** Available Device: _DeviceAttributes(/job:worker/replica:0/task:0/device:XLA_CPU:0, XLA_CPU, 0, 0)\n"
          ],
          "name": "stdout"
        },
        {
          "output_type": "stream",
          "text": [
            "INFO:tensorflow:*** Available Device: _DeviceAttributes(/job:worker/replica:0/task:0/device:XLA_CPU:0, XLA_CPU, 0, 0)\n"
          ],
          "name": "stderr"
        }
      ]
    },
    {
      "cell_type": "code",
      "metadata": {
        "id": "tmS55Pdz6ka8",
        "colab_type": "code",
        "colab": {
          "base_uri": "https://localhost:8080/",
          "height": 50
        },
        "outputId": "34214c41-e96b-474b-ef9d-6abd5805ba1f"
      },
      "source": [
        "dataset_path = \"/content/drive/My Drive/img.pkl\"\n",
        "res = pd.read_pickle(dataset_path)\n",
        "x = res.drop([\"y\"], axis=1)                     \n",
        "y = res['y']\n",
        "print(x.shape,y.shape)\n",
        "max_data = np.max(x)\n",
        "min_data = np.min(x)\n",
        "data = (x-min_data)/(max_data-min_data+1e-6)\n",
        "data =  data-0.5\n",
        "print(\"Normalization done!\")\n",
        "x = data.to_numpy().reshape(data.shape[0],128,44,1)\n",
        "y = y.to_numpy()"
      ],
      "execution_count": 3,
      "outputs": [
        {
          "output_type": "stream",
          "text": [
            "(52117, 5632) (52117,)\n",
            "Normalization done!\n"
          ],
          "name": "stdout"
        }
      ]
    },
    {
      "cell_type": "code",
      "metadata": {
        "id": "JyV952qY7QPg",
        "colab_type": "code",
        "colab": {
          "base_uri": "https://localhost:8080/",
          "height": 33
        },
        "outputId": "3f81a59c-4784-4100-9cf3-d5fcfa81f7ec"
      },
      "source": [
        "from sklearn.model_selection import train_test_split\n",
        "\n",
        "mode = \"sequential\"\n",
        "\n",
        "if mode==\"sequential\":\n",
        "    x = x.reshape(data.shape[0],128*44)\n",
        "else:\n",
        "    x = x.reshape(data.shape[0],128,44,1)\n",
        "\n",
        "x_train, x_test, y_train, y_test = train_test_split(x, y,\n",
        "                                                   test_size=0.8,\n",
        "                                                   shuffle=True,\n",
        "                                                   random_state=8735,\n",
        "                                                   stratify=y)\n",
        "print(\"done!\")"
      ],
      "execution_count": 4,
      "outputs": [
        {
          "output_type": "stream",
          "text": [
            "done!\n"
          ],
          "name": "stdout"
        }
      ]
    },
    {
      "cell_type": "code",
      "metadata": {
        "id": "IM6GUt1iydyA",
        "colab_type": "code",
        "colab": {}
      },
      "source": [
        "import matplotlib\n",
        "cntTrain = np.bincount(y_train)\n",
        "max = np.max(cntTrain)\n",
        "res = cntTrain / max\n",
        "print(res.min(),res.max(),res.mean(), res[0:5])\n",
        "matplotlib.pyplot.plot([res,res+0.1])"
      ],
      "execution_count": null,
      "outputs": []
    },
    {
      "cell_type": "code",
      "metadata": {
        "id": "eCGC-PQ3qYh2",
        "colab_type": "code",
        "colab": {
          "base_uri": "https://localhost:8080/",
          "height": 33
        },
        "outputId": "37eb0cd4-17c0-4e8e-e84f-289cb8ff2c91"
      },
      "source": [
        "# model = keras.models.Sequential()\n",
        "# model.add(keras.layers.Flatten(shape=(60*80,)))\n",
        "# model.add(keras.layers.Dense(3000, activation=\"relu\"))\n",
        "# model.add(keras.layers.Dense(50, activation=\"relu\"))\n",
        "# model.add(keras.layers.Dense(20, activation=\"relu\"))\n",
        "# model.add(keras.layers.Dense(4, activation=\"softmax\"))\n",
        "\n",
        "import keras\n",
        "import tensorflow as tf\n",
        "def getNewModel():\n",
        "  model = keras.models.Sequential()\n",
        "  input_shape=(x.shape[1],x.shape[2],1)\n",
        "  model.add(keras.layers.Conv2D(32, (3, 3), strides=(2, 2), input_shape=input_shape))\n",
        "  model.add(keras.layers.AveragePooling2D((2, 2), strides=(2,2)))\n",
        "  model.add(keras.layers.Activation('relu'))\n",
        "  model.add(keras.layers.Conv2D(64, (3, 3), padding=\"same\"))\n",
        "  model.add(keras.layers.AveragePooling2D((2, 2), strides=(2,2)))\n",
        "  model.add(keras.layers.Activation('relu'))\n",
        "  model.add(keras.layers.Conv2D(64, (3, 3), padding=\"same\"))\n",
        "  model.add(keras.layers.AveragePooling2D((2, 2), strides=(2,2)))\n",
        "  model.add(keras.layers.Activation('relu'))\n",
        "  model.add(keras.layers.Flatten())\n",
        "  model.add(keras.layers.Dropout(rate=0.5))\n",
        "  model.add(keras.layers.Dense(64))\n",
        "  model.add(keras.layers.Activation('relu'))\n",
        "  model.add(keras.layers.Dropout(rate=0.5))\n",
        "  model.add(keras.layers.Dense(30))\n",
        "  model.add(keras.layers.Activation('softmax'))\n",
        "  return model"
      ],
      "execution_count": null,
      "outputs": [
        {
          "output_type": "stream",
          "text": [
            "Using TensorFlow backend.\n"
          ],
          "name": "stderr"
        }
      ]
    },
    {
      "cell_type": "code",
      "metadata": {
        "id": "ZB52kAm7qln2",
        "colab_type": "code",
        "colab": {
          "base_uri": "https://localhost:8080/",
          "height": 1000
        },
        "outputId": "eb13550f-8ded-41a7-f57a-187ef5f1ec32"
      },
      "source": [
        "from numpy import array\n",
        "from sklearn.model_selection import KFold\n",
        "\n",
        "# def kfoldcv(classifier):\n",
        "kf = KFold(n_splits=10,shuffle=True,random_state=43)\n",
        "kf.get_n_splits(x) \n",
        "scores = []\n",
        "modelli = []\n",
        "for train_index, test_index in kf.split(x):\n",
        "    print(\"TRAIN:\", len(train_index), \"TEST:\", len(test_index), end=\" \")\n",
        "    x_train_cv, x_test_cv = x[train_index], x[test_index]\n",
        "    y_train_cv, y_test_cv = y[train_index], y[test_index]\n",
        "    # clf = classifier.fit(x_train_cv,y_train_cv)\n",
        "    model = getNewModel()\n",
        "    model.compile(loss=\"sparse_categorical_crossentropy\", optimizer='adam', metrics=['accuracy'])\n",
        "    model.fit(x_train_cv,  y_train_cv, epochs=65)\n",
        "    s = model.evaluate(x_test_cv, y_test_cv, verbose=0)\n",
        "    scores.append(s)\n",
        "    modelli.append(model)\n",
        "    print(s)\n",
        "print(scores)"
      ],
      "execution_count": null,
      "outputs": [
        {
          "output_type": "stream",
          "text": [
            "TRAIN: 46905 TEST: 5212 Epoch 1/65\n",
            "46905/46905 [==============================] - 35s 744us/step - loss: 3.3952 - accuracy: 0.0390\n",
            "Epoch 2/65\n",
            "46905/46905 [==============================] - 34s 735us/step - loss: 3.3876 - accuracy: 0.0458\n",
            "Epoch 3/65\n",
            "46905/46905 [==============================] - 35s 749us/step - loss: 3.3743 - accuracy: 0.0540\n",
            "Epoch 4/65\n",
            "46905/46905 [==============================] - 35s 743us/step - loss: 3.3223 - accuracy: 0.0718\n",
            "Epoch 5/65\n",
            "46905/46905 [==============================] - 35s 751us/step - loss: 3.1561 - accuracy: 0.1052\n",
            "Epoch 6/65\n",
            "46905/46905 [==============================] - 35s 736us/step - loss: 2.9024 - accuracy: 0.1578\n",
            "Epoch 7/65\n",
            "46905/46905 [==============================] - 34s 735us/step - loss: 2.6912 - accuracy: 0.2087\n",
            "Epoch 8/65\n",
            "46905/46905 [==============================] - 34s 731us/step - loss: 2.5440 - accuracy: 0.2479\n",
            "Epoch 9/65\n",
            "46905/46905 [==============================] - 34s 720us/step - loss: 2.4296 - accuracy: 0.2794\n",
            "Epoch 10/65\n",
            "46905/46905 [==============================] - 34s 731us/step - loss: 2.3356 - accuracy: 0.3078\n",
            "Epoch 11/65\n",
            "46905/46905 [==============================] - 34s 718us/step - loss: 2.2490 - accuracy: 0.3305\n",
            "Epoch 12/65\n",
            "46905/46905 [==============================] - 34s 715us/step - loss: 2.1739 - accuracy: 0.3532\n",
            "Epoch 13/65\n",
            "46905/46905 [==============================] - 35s 741us/step - loss: 2.0957 - accuracy: 0.3731\n",
            "Epoch 14/65\n",
            "46905/46905 [==============================] - 35s 740us/step - loss: 2.0230 - accuracy: 0.3936\n",
            "Epoch 15/65\n",
            "46905/46905 [==============================] - 35s 755us/step - loss: 1.9658 - accuracy: 0.4089\n",
            "Epoch 16/65\n",
            "46905/46905 [==============================] - 34s 728us/step - loss: 1.8984 - accuracy: 0.4281\n",
            "Epoch 17/65\n",
            "46905/46905 [==============================] - 34s 723us/step - loss: 1.8433 - accuracy: 0.4462\n",
            "Epoch 18/65\n",
            "46905/46905 [==============================] - 35s 738us/step - loss: 1.7849 - accuracy: 0.4644\n",
            "Epoch 19/65\n",
            "46905/46905 [==============================] - 34s 719us/step - loss: 1.7183 - accuracy: 0.4826\n",
            "Epoch 20/65\n",
            "46905/46905 [==============================] - 35s 736us/step - loss: 1.6698 - accuracy: 0.4971\n",
            "Epoch 21/65\n",
            "46905/46905 [==============================] - 34s 725us/step - loss: 1.6263 - accuracy: 0.5056\n",
            "Epoch 22/65\n",
            "46905/46905 [==============================] - 34s 734us/step - loss: 1.5713 - accuracy: 0.5230\n",
            "Epoch 23/65\n",
            "46905/46905 [==============================] - 34s 726us/step - loss: 1.5400 - accuracy: 0.5332\n",
            "Epoch 24/65\n",
            "46905/46905 [==============================] - 35s 744us/step - loss: 1.5064 - accuracy: 0.5409\n",
            "Epoch 25/65\n",
            "46905/46905 [==============================] - 34s 726us/step - loss: 1.4704 - accuracy: 0.5524\n",
            "Epoch 26/65\n",
            "46905/46905 [==============================] - 35s 741us/step - loss: 1.4438 - accuracy: 0.5606\n",
            "Epoch 27/65\n",
            "46905/46905 [==============================] - 33s 705us/step - loss: 1.4111 - accuracy: 0.5696\n",
            "Epoch 28/65\n",
            "46905/46905 [==============================] - 34s 729us/step - loss: 1.3855 - accuracy: 0.5779\n",
            "Epoch 29/65\n",
            "46905/46905 [==============================] - 34s 735us/step - loss: 1.3574 - accuracy: 0.5861\n",
            "Epoch 30/65\n",
            "46905/46905 [==============================] - 34s 735us/step - loss: 1.3371 - accuracy: 0.5954\n",
            "Epoch 31/65\n",
            "46905/46905 [==============================] - 34s 726us/step - loss: 1.3140 - accuracy: 0.6028\n",
            "Epoch 32/65\n",
            "46905/46905 [==============================] - 35s 745us/step - loss: 1.3041 - accuracy: 0.6010\n",
            "Epoch 33/65\n",
            "46905/46905 [==============================] - 34s 723us/step - loss: 1.2847 - accuracy: 0.6121\n",
            "Epoch 34/65\n",
            "46905/46905 [==============================] - 34s 724us/step - loss: 1.2670 - accuracy: 0.6164\n",
            "Epoch 35/65\n",
            "46905/46905 [==============================] - 33s 709us/step - loss: 1.2516 - accuracy: 0.6206\n",
            "Epoch 36/65\n",
            "46905/46905 [==============================] - 35s 736us/step - loss: 1.2311 - accuracy: 0.6247\n",
            "Epoch 37/65\n",
            "46905/46905 [==============================] - 35s 739us/step - loss: 1.2165 - accuracy: 0.6323\n",
            "Epoch 38/65\n",
            "46905/46905 [==============================] - 34s 724us/step - loss: 1.2101 - accuracy: 0.6345\n",
            "Epoch 39/65\n",
            "46905/46905 [==============================] - 33s 702us/step - loss: 1.1941 - accuracy: 0.6368\n",
            "Epoch 40/65\n",
            "46905/46905 [==============================] - 33s 714us/step - loss: 1.1761 - accuracy: 0.6423\n",
            "Epoch 41/65\n",
            "46905/46905 [==============================] - 34s 724us/step - loss: 1.1592 - accuracy: 0.6450\n",
            "Epoch 42/65\n",
            "46905/46905 [==============================] - 34s 724us/step - loss: 1.1520 - accuracy: 0.6519\n",
            "Epoch 43/65\n",
            "46905/46905 [==============================] - 34s 728us/step - loss: 1.1402 - accuracy: 0.6534\n",
            "Epoch 44/65\n",
            "46905/46905 [==============================] - 34s 730us/step - loss: 1.1325 - accuracy: 0.6561\n",
            "Epoch 45/65\n",
            "46905/46905 [==============================] - 34s 730us/step - loss: 1.1218 - accuracy: 0.6614\n",
            "Epoch 46/65\n",
            "46905/46905 [==============================] - 34s 731us/step - loss: 1.1078 - accuracy: 0.6639\n",
            "Epoch 47/65\n",
            "46905/46905 [==============================] - 34s 714us/step - loss: 1.1018 - accuracy: 0.6661\n",
            "Epoch 48/65\n",
            "46905/46905 [==============================] - 34s 735us/step - loss: 1.0910 - accuracy: 0.6690\n",
            "Epoch 49/65\n",
            "46905/46905 [==============================] - 33s 713us/step - loss: 1.0920 - accuracy: 0.6695\n",
            "Epoch 50/65\n",
            "46905/46905 [==============================] - 33s 707us/step - loss: 1.0642 - accuracy: 0.6770\n",
            "Epoch 51/65\n",
            "46905/46905 [==============================] - 33s 712us/step - loss: 1.0591 - accuracy: 0.6786\n",
            "Epoch 52/65\n",
            "46905/46905 [==============================] - 35s 740us/step - loss: 1.0641 - accuracy: 0.6779\n",
            "Epoch 53/65\n",
            "46905/46905 [==============================] - 34s 717us/step - loss: 1.0481 - accuracy: 0.6827\n",
            "Epoch 54/65\n",
            "46905/46905 [==============================] - 34s 720us/step - loss: 1.0410 - accuracy: 0.6839\n",
            "Epoch 55/65\n",
            "46905/46905 [==============================] - 34s 729us/step - loss: 1.0283 - accuracy: 0.6883\n",
            "Epoch 56/65\n",
            "46905/46905 [==============================] - 34s 715us/step - loss: 1.0199 - accuracy: 0.6918\n",
            "Epoch 57/65\n",
            "46905/46905 [==============================] - 33s 706us/step - loss: 1.0173 - accuracy: 0.6917\n",
            "Epoch 58/65\n",
            "46905/46905 [==============================] - 33s 710us/step - loss: 1.0103 - accuracy: 0.6942\n",
            "Epoch 59/65\n",
            "46905/46905 [==============================] - 34s 716us/step - loss: 1.0034 - accuracy: 0.6962\n",
            "Epoch 60/65\n",
            "46905/46905 [==============================] - 34s 732us/step - loss: 1.0017 - accuracy: 0.6962\n",
            "Epoch 61/65\n",
            "46905/46905 [==============================] - 35s 749us/step - loss: 0.9903 - accuracy: 0.6993\n",
            "Epoch 62/65\n",
            "46905/46905 [==============================] - 35s 737us/step - loss: 0.9812 - accuracy: 0.7023\n",
            "Epoch 63/65\n",
            "46905/46905 [==============================] - 34s 718us/step - loss: 0.9818 - accuracy: 0.7045\n",
            "Epoch 64/65\n",
            "46905/46905 [==============================] - 33s 705us/step - loss: 0.9736 - accuracy: 0.7048\n",
            "Epoch 65/65\n",
            "46905/46905 [==============================] - 33s 713us/step - loss: 0.9619 - accuracy: 0.7082\n",
            "[0.5928769217416678, 0.8294320702552795]\n",
            "TRAIN: 46905 TEST: 5212 Epoch 1/65\n",
            "46905/46905 [==============================] - 33s 709us/step - loss: 3.3952 - accuracy: 0.0375\n",
            "Epoch 2/65\n",
            "46905/46905 [==============================] - 32s 691us/step - loss: 3.3874 - accuracy: 0.0429\n",
            "Epoch 3/65\n",
            "46905/46905 [==============================] - 33s 696us/step - loss: 3.3729 - accuracy: 0.0501\n",
            "Epoch 4/65\n",
            "46905/46905 [==============================] - 33s 695us/step - loss: 3.3281 - accuracy: 0.0662\n",
            "Epoch 5/65\n",
            "46905/46905 [==============================] - 33s 707us/step - loss: 3.1974 - accuracy: 0.1006\n",
            "Epoch 6/65\n",
            "46905/46905 [==============================] - 32s 690us/step - loss: 2.9437 - accuracy: 0.1525\n",
            "Epoch 7/65\n",
            "46905/46905 [==============================] - 33s 700us/step - loss: 2.7095 - accuracy: 0.2070\n",
            "Epoch 8/65\n",
            "46905/46905 [==============================] - 32s 689us/step - loss: 2.5406 - accuracy: 0.2469\n",
            "Epoch 9/65\n",
            "46905/46905 [==============================] - 33s 695us/step - loss: 2.4017 - accuracy: 0.2882\n",
            "Epoch 10/65\n",
            "46905/46905 [==============================] - 32s 682us/step - loss: 2.2891 - accuracy: 0.3195\n",
            "Epoch 11/65\n",
            "46905/46905 [==============================] - 33s 693us/step - loss: 2.1822 - accuracy: 0.3515\n",
            "Epoch 12/65\n",
            "46905/46905 [==============================] - 33s 703us/step - loss: 2.0891 - accuracy: 0.3751\n",
            "Epoch 13/65\n",
            "46905/46905 [==============================] - 33s 701us/step - loss: 2.0044 - accuracy: 0.4014\n",
            "Epoch 14/65\n",
            "46905/46905 [==============================] - 33s 707us/step - loss: 1.9325 - accuracy: 0.4231\n",
            "Epoch 15/65\n",
            "46905/46905 [==============================] - 33s 702us/step - loss: 1.8528 - accuracy: 0.4455\n",
            "Epoch 16/65\n",
            "46905/46905 [==============================] - 33s 694us/step - loss: 1.7816 - accuracy: 0.4645\n",
            "Epoch 17/65\n",
            "46905/46905 [==============================] - 33s 695us/step - loss: 1.7231 - accuracy: 0.4825\n",
            "Epoch 18/65\n",
            "46905/46905 [==============================] - 32s 690us/step - loss: 1.6718 - accuracy: 0.4973\n",
            "Epoch 19/65\n",
            "46905/46905 [==============================] - 32s 692us/step - loss: 1.6167 - accuracy: 0.5121\n",
            "Epoch 20/65\n",
            "46905/46905 [==============================] - 32s 691us/step - loss: 1.5685 - accuracy: 0.5263\n",
            "Epoch 21/65\n",
            "46905/46905 [==============================] - 33s 695us/step - loss: 1.5194 - accuracy: 0.5404\n",
            "Epoch 22/65\n",
            "46905/46905 [==============================] - 32s 688us/step - loss: 1.4882 - accuracy: 0.5514\n",
            "Epoch 23/65\n",
            "46905/46905 [==============================] - 33s 698us/step - loss: 1.4527 - accuracy: 0.5603\n",
            "Epoch 24/65\n",
            "46905/46905 [==============================] - 34s 715us/step - loss: 1.4214 - accuracy: 0.5699\n",
            "Epoch 25/65\n",
            "46905/46905 [==============================] - 32s 690us/step - loss: 1.3926 - accuracy: 0.5811\n",
            "Epoch 26/65\n",
            "46905/46905 [==============================] - 32s 690us/step - loss: 1.3634 - accuracy: 0.5870\n",
            "Epoch 27/65\n",
            "46905/46905 [==============================] - 33s 699us/step - loss: 1.3398 - accuracy: 0.5906\n",
            "Epoch 28/65\n",
            "46905/46905 [==============================] - 32s 688us/step - loss: 1.3221 - accuracy: 0.6005\n",
            "Epoch 29/65\n",
            "46905/46905 [==============================] - 32s 693us/step - loss: 1.3004 - accuracy: 0.6065\n",
            "Epoch 30/65\n",
            "46905/46905 [==============================] - 32s 690us/step - loss: 1.2806 - accuracy: 0.6136\n",
            "Epoch 31/65\n",
            "46905/46905 [==============================] - 32s 690us/step - loss: 1.2612 - accuracy: 0.6181\n",
            "Epoch 32/65\n",
            "46905/46905 [==============================] - 33s 701us/step - loss: 1.2408 - accuracy: 0.6239\n",
            "Epoch 33/65\n",
            "46905/46905 [==============================] - 33s 705us/step - loss: 1.2276 - accuracy: 0.6284\n",
            "Epoch 34/65\n",
            "46905/46905 [==============================] - 33s 703us/step - loss: 1.2095 - accuracy: 0.6338\n",
            "Epoch 35/65\n",
            "46905/46905 [==============================] - 33s 707us/step - loss: 1.1957 - accuracy: 0.6383\n",
            "Epoch 36/65\n",
            "46905/46905 [==============================] - 33s 704us/step - loss: 1.1834 - accuracy: 0.6413\n",
            "Epoch 37/65\n",
            "46905/46905 [==============================] - 32s 690us/step - loss: 1.1601 - accuracy: 0.6463\n",
            "Epoch 38/65\n",
            "46905/46905 [==============================] - 33s 695us/step - loss: 1.1585 - accuracy: 0.6505\n",
            "Epoch 39/65\n",
            "46905/46905 [==============================] - 33s 700us/step - loss: 1.1519 - accuracy: 0.6530\n",
            "Epoch 40/65\n",
            "46905/46905 [==============================] - 33s 701us/step - loss: 1.1275 - accuracy: 0.6603\n",
            "Epoch 41/65\n",
            "46905/46905 [==============================] - 33s 701us/step - loss: 1.1250 - accuracy: 0.6598\n",
            "Epoch 42/65\n",
            "46905/46905 [==============================] - 33s 703us/step - loss: 1.1043 - accuracy: 0.6654\n",
            "Epoch 43/65\n",
            "46905/46905 [==============================] - 33s 709us/step - loss: 1.1066 - accuracy: 0.6641\n",
            "Epoch 44/65\n",
            "46905/46905 [==============================] - 33s 703us/step - loss: 1.0924 - accuracy: 0.6706\n",
            "Epoch 45/65\n",
            "46905/46905 [==============================] - 32s 691us/step - loss: 1.0780 - accuracy: 0.6713\n",
            "Epoch 46/65\n",
            "46905/46905 [==============================] - 33s 694us/step - loss: 1.0702 - accuracy: 0.6764\n",
            "Epoch 47/65\n",
            "46905/46905 [==============================] - 32s 680us/step - loss: 1.0637 - accuracy: 0.6799\n",
            "Epoch 48/65\n",
            "46905/46905 [==============================] - 33s 696us/step - loss: 1.0588 - accuracy: 0.6796\n",
            "Epoch 49/65\n",
            "46905/46905 [==============================] - 33s 698us/step - loss: 1.0433 - accuracy: 0.6859\n",
            "Epoch 50/65\n",
            "46905/46905 [==============================] - 32s 691us/step - loss: 1.0411 - accuracy: 0.6853\n",
            "Epoch 51/65\n",
            "46905/46905 [==============================] - 32s 693us/step - loss: 1.0267 - accuracy: 0.6899\n",
            "Epoch 52/65\n",
            "46905/46905 [==============================] - 32s 692us/step - loss: 1.0293 - accuracy: 0.6885\n",
            "Epoch 53/65\n",
            "46905/46905 [==============================] - 33s 697us/step - loss: 1.0127 - accuracy: 0.6924\n",
            "Epoch 54/65\n",
            "46905/46905 [==============================] - 33s 697us/step - loss: 1.0106 - accuracy: 0.6937\n",
            "Epoch 55/65\n",
            "46905/46905 [==============================] - 33s 699us/step - loss: 1.0019 - accuracy: 0.6970\n",
            "Epoch 56/65\n",
            "46905/46905 [==============================] - 33s 702us/step - loss: 0.9858 - accuracy: 0.7001\n",
            "Epoch 57/65\n",
            "46905/46905 [==============================] - 33s 696us/step - loss: 0.9844 - accuracy: 0.7008\n",
            "Epoch 58/65\n",
            "46905/46905 [==============================] - 33s 699us/step - loss: 0.9920 - accuracy: 0.6981\n",
            "Epoch 59/65\n",
            "46905/46905 [==============================] - 33s 693us/step - loss: 0.9689 - accuracy: 0.7049\n",
            "Epoch 60/65\n",
            "46905/46905 [==============================] - 33s 694us/step - loss: 0.9731 - accuracy: 0.7038\n",
            "Epoch 61/65\n",
            "46905/46905 [==============================] - 33s 713us/step - loss: 0.9645 - accuracy: 0.7080\n",
            "Epoch 62/65\n",
            "46905/46905 [==============================] - 34s 721us/step - loss: 0.9574 - accuracy: 0.7096\n",
            "Epoch 63/65\n",
            "46905/46905 [==============================] - 33s 695us/step - loss: 0.9524 - accuracy: 0.7117\n",
            "Epoch 64/65\n",
            "46905/46905 [==============================] - 33s 701us/step - loss: 0.9507 - accuracy: 0.7138\n",
            "Epoch 65/65\n",
            "46905/46905 [==============================] - 33s 698us/step - loss: 0.9436 - accuracy: 0.7143\n",
            "[0.6504284438955171, 0.8150421977043152]\n",
            "TRAIN: 46905 TEST: 5212 Epoch 1/65\n",
            "46905/46905 [==============================] - 33s 699us/step - loss: 3.3950 - accuracy: 0.0390\n",
            "Epoch 2/65\n",
            "46905/46905 [==============================] - 33s 694us/step - loss: 3.3863 - accuracy: 0.0446\n",
            "Epoch 3/65\n",
            "46905/46905 [==============================] - 33s 705us/step - loss: 3.3673 - accuracy: 0.0513\n",
            "Epoch 4/65\n",
            "46905/46905 [==============================] - 32s 690us/step - loss: 3.3002 - accuracy: 0.0747\n",
            "Epoch 5/65\n",
            "46905/46905 [==============================] - 33s 705us/step - loss: 3.1009 - accuracy: 0.1184\n",
            "Epoch 6/65\n",
            "46905/46905 [==============================] - 34s 725us/step - loss: 2.8493 - accuracy: 0.1688\n",
            "Epoch 7/65\n",
            "46905/46905 [==============================] - 33s 700us/step - loss: 2.6588 - accuracy: 0.2153\n",
            "Epoch 8/65\n",
            "46905/46905 [==============================] - 33s 700us/step - loss: 2.5203 - accuracy: 0.2550\n",
            "Epoch 9/65\n",
            "46905/46905 [==============================] - 33s 694us/step - loss: 2.3965 - accuracy: 0.2916\n",
            "Epoch 10/65\n",
            "46905/46905 [==============================] - 32s 680us/step - loss: 2.2959 - accuracy: 0.3188\n",
            "Epoch 11/65\n",
            "46905/46905 [==============================] - 33s 699us/step - loss: 2.1974 - accuracy: 0.3480\n",
            "Epoch 12/65\n",
            "46905/46905 [==============================] - 33s 698us/step - loss: 2.1137 - accuracy: 0.3728\n",
            "Epoch 13/65\n",
            "46905/46905 [==============================] - 33s 703us/step - loss: 2.0273 - accuracy: 0.3953\n",
            "Epoch 14/65\n",
            "46905/46905 [==============================] - 34s 720us/step - loss: 1.9497 - accuracy: 0.4166\n",
            "Epoch 15/65\n",
            "46905/46905 [==============================] - 33s 703us/step - loss: 1.8789 - accuracy: 0.4364\n",
            "Epoch 16/65\n",
            "46905/46905 [==============================] - 34s 720us/step - loss: 1.8133 - accuracy: 0.4554\n",
            "Epoch 17/65\n",
            "46905/46905 [==============================] - 33s 694us/step - loss: 1.7476 - accuracy: 0.4717\n",
            "Epoch 18/65\n",
            "46905/46905 [==============================] - 33s 700us/step - loss: 1.6890 - accuracy: 0.4893\n",
            "Epoch 19/65\n",
            "46905/46905 [==============================] - 33s 701us/step - loss: 1.6385 - accuracy: 0.5056\n",
            "Epoch 20/65\n",
            "46905/46905 [==============================] - 33s 703us/step - loss: 1.5834 - accuracy: 0.5226\n",
            "Epoch 21/65\n",
            "46905/46905 [==============================] - 32s 692us/step - loss: 1.5452 - accuracy: 0.5321\n",
            "Epoch 22/65\n",
            "46905/46905 [==============================] - 33s 693us/step - loss: 1.4976 - accuracy: 0.5454\n",
            "Epoch 23/65\n",
            "46905/46905 [==============================] - 33s 696us/step - loss: 1.4676 - accuracy: 0.5554\n",
            "Epoch 24/65\n",
            "46905/46905 [==============================] - 33s 702us/step - loss: 1.4304 - accuracy: 0.5664\n",
            "Epoch 25/65\n",
            "46905/46905 [==============================] - 33s 700us/step - loss: 1.4001 - accuracy: 0.5771\n",
            "Epoch 26/65\n",
            "46905/46905 [==============================] - 33s 697us/step - loss: 1.3767 - accuracy: 0.5826\n",
            "Epoch 27/65\n",
            "46905/46905 [==============================] - 33s 705us/step - loss: 1.3481 - accuracy: 0.5930\n",
            "Epoch 28/65\n",
            "46905/46905 [==============================] - 33s 703us/step - loss: 1.3242 - accuracy: 0.5981\n",
            "Epoch 29/65\n",
            "46905/46905 [==============================] - 33s 698us/step - loss: 1.3073 - accuracy: 0.6047\n",
            "Epoch 30/65\n",
            "46905/46905 [==============================] - 33s 700us/step - loss: 1.2796 - accuracy: 0.6129\n",
            "Epoch 31/65\n",
            "46905/46905 [==============================] - 32s 688us/step - loss: 1.2672 - accuracy: 0.6164\n",
            "Epoch 32/65\n",
            "46905/46905 [==============================] - 32s 693us/step - loss: 1.2424 - accuracy: 0.6247\n",
            "Epoch 33/65\n",
            "46905/46905 [==============================] - 33s 703us/step - loss: 1.2295 - accuracy: 0.6289\n",
            "Epoch 34/65\n",
            "46905/46905 [==============================] - 33s 695us/step - loss: 1.2067 - accuracy: 0.6359\n",
            "Epoch 35/65\n",
            "46905/46905 [==============================] - 33s 702us/step - loss: 1.1903 - accuracy: 0.6369\n",
            "Epoch 36/65\n",
            "46905/46905 [==============================] - 33s 700us/step - loss: 1.1709 - accuracy: 0.6461\n",
            "Epoch 37/65\n",
            "46905/46905 [==============================] - 32s 688us/step - loss: 1.1571 - accuracy: 0.6512\n",
            "Epoch 38/65\n",
            "46905/46905 [==============================] - 33s 702us/step - loss: 1.1386 - accuracy: 0.6556\n",
            "Epoch 39/65\n",
            "46905/46905 [==============================] - 33s 707us/step - loss: 1.1361 - accuracy: 0.6539\n",
            "Epoch 40/65\n",
            "46905/46905 [==============================] - 33s 700us/step - loss: 1.1177 - accuracy: 0.6619\n",
            "Epoch 41/65\n",
            "46905/46905 [==============================] - 33s 698us/step - loss: 1.1025 - accuracy: 0.6672\n",
            "Epoch 42/65\n",
            "46905/46905 [==============================] - 33s 697us/step - loss: 1.0941 - accuracy: 0.6706\n",
            "Epoch 43/65\n",
            "46905/46905 [==============================] - 32s 680us/step - loss: 1.0830 - accuracy: 0.6710\n",
            "Epoch 44/65\n",
            "46905/46905 [==============================] - 34s 716us/step - loss: 1.0739 - accuracy: 0.6754\n",
            "Epoch 45/65\n",
            "46905/46905 [==============================] - 34s 716us/step - loss: 1.0543 - accuracy: 0.6812\n",
            "Epoch 46/65\n",
            "46905/46905 [==============================] - 33s 696us/step - loss: 1.0451 - accuracy: 0.6818\n",
            "Epoch 47/65\n",
            "46905/46905 [==============================] - 33s 701us/step - loss: 1.0492 - accuracy: 0.6809\n",
            "Epoch 48/65\n",
            "46905/46905 [==============================] - 33s 693us/step - loss: 1.0331 - accuracy: 0.6891\n",
            "Epoch 49/65\n",
            "46905/46905 [==============================] - 33s 705us/step - loss: 1.0210 - accuracy: 0.6911\n",
            "Epoch 50/65\n",
            "46905/46905 [==============================] - 33s 698us/step - loss: 1.0217 - accuracy: 0.6927\n",
            "Epoch 51/65\n",
            "46905/46905 [==============================] - 33s 709us/step - loss: 1.0064 - accuracy: 0.6939\n",
            "Epoch 52/65\n",
            "46905/46905 [==============================] - 33s 710us/step - loss: 1.0012 - accuracy: 0.6971\n",
            "Epoch 53/65\n",
            "46905/46905 [==============================] - 33s 703us/step - loss: 0.9903 - accuracy: 0.6995\n",
            "Epoch 54/65\n",
            "46905/46905 [==============================] - 33s 701us/step - loss: 0.9819 - accuracy: 0.7012\n",
            "Epoch 55/65\n",
            "46905/46905 [==============================] - 32s 691us/step - loss: 0.9716 - accuracy: 0.7066\n",
            "Epoch 56/65\n",
            "46905/46905 [==============================] - 32s 689us/step - loss: 0.9724 - accuracy: 0.7045\n",
            "Epoch 57/65\n",
            "46905/46905 [==============================] - 33s 697us/step - loss: 0.9612 - accuracy: 0.7077\n",
            "Epoch 58/65\n",
            "46905/46905 [==============================] - 33s 700us/step - loss: 0.9553 - accuracy: 0.7116\n",
            "Epoch 59/65\n",
            "46905/46905 [==============================] - 33s 695us/step - loss: 0.9505 - accuracy: 0.7098\n",
            "Epoch 60/65\n",
            "46905/46905 [==============================] - 32s 692us/step - loss: 0.9444 - accuracy: 0.7147\n",
            "Epoch 61/65\n",
            "46905/46905 [==============================] - 33s 694us/step - loss: 0.9343 - accuracy: 0.7171\n",
            "Epoch 62/65\n",
            "46905/46905 [==============================] - 33s 710us/step - loss: 0.9257 - accuracy: 0.7212\n",
            "Epoch 63/65\n",
            "46905/46905 [==============================] - 33s 710us/step - loss: 0.9250 - accuracy: 0.7202\n",
            "Epoch 64/65\n",
            "46905/46905 [==============================] - 33s 705us/step - loss: 0.9285 - accuracy: 0.7228\n",
            "Epoch 65/65\n",
            "46905/46905 [==============================] - 33s 698us/step - loss: 0.9184 - accuracy: 0.7229\n",
            "[0.5788970370751935, 0.839984655380249]\n",
            "TRAIN: 46905 TEST: 5212 Epoch 1/65\n",
            "46905/46905 [==============================] - 34s 718us/step - loss: 3.3959 - accuracy: 0.0387\n",
            "Epoch 2/65\n",
            "46905/46905 [==============================] - 33s 712us/step - loss: 3.3888 - accuracy: 0.0434\n",
            "Epoch 3/65\n",
            "46905/46905 [==============================] - 33s 713us/step - loss: 3.3744 - accuracy: 0.0495\n",
            "Epoch 4/65\n",
            "46905/46905 [==============================] - 34s 719us/step - loss: 3.3083 - accuracy: 0.0741\n",
            "Epoch 5/65\n",
            "46905/46905 [==============================] - 34s 715us/step - loss: 3.1274 - accuracy: 0.1080\n",
            "Epoch 6/65\n",
            "46905/46905 [==============================] - 34s 720us/step - loss: 2.9102 - accuracy: 0.1522\n",
            "Epoch 7/65\n",
            "46905/46905 [==============================] - 34s 727us/step - loss: 2.7089 - accuracy: 0.2014\n",
            "Epoch 8/65\n",
            "46905/46905 [==============================] - 33s 712us/step - loss: 2.5656 - accuracy: 0.2398\n",
            "Epoch 9/65\n",
            "46905/46905 [==============================] - 34s 715us/step - loss: 2.4485 - accuracy: 0.2731\n",
            "Epoch 10/65\n",
            "46905/46905 [==============================] - 33s 709us/step - loss: 2.3415 - accuracy: 0.3041\n",
            "Epoch 11/65\n",
            "46905/46905 [==============================] - 33s 711us/step - loss: 2.2661 - accuracy: 0.3250\n",
            "Epoch 12/65\n",
            "46905/46905 [==============================] - 33s 710us/step - loss: 2.1851 - accuracy: 0.3485\n",
            "Epoch 13/65\n",
            "46905/46905 [==============================] - 33s 712us/step - loss: 2.0962 - accuracy: 0.3735\n",
            "Epoch 14/65\n",
            "46905/46905 [==============================] - 34s 723us/step - loss: 2.0183 - accuracy: 0.3951\n",
            "Epoch 15/65\n",
            "46905/46905 [==============================] - 33s 712us/step - loss: 1.9433 - accuracy: 0.4182\n",
            "Epoch 16/65\n",
            "46905/46905 [==============================] - 34s 715us/step - loss: 1.8804 - accuracy: 0.4353\n",
            "Epoch 17/65\n",
            "46905/46905 [==============================] - 33s 713us/step - loss: 1.8173 - accuracy: 0.4539\n",
            "Epoch 18/65\n",
            "46905/46905 [==============================] - 33s 707us/step - loss: 1.7529 - accuracy: 0.4701\n",
            "Epoch 19/65\n",
            "46905/46905 [==============================] - 33s 704us/step - loss: 1.6974 - accuracy: 0.4841\n",
            "Epoch 20/65\n",
            "46905/46905 [==============================] - 33s 711us/step - loss: 1.6506 - accuracy: 0.5016\n",
            "Epoch 21/65\n",
            "46905/46905 [==============================] - 33s 710us/step - loss: 1.6045 - accuracy: 0.5195\n",
            "Epoch 22/65\n",
            "46905/46905 [==============================] - 34s 723us/step - loss: 1.5568 - accuracy: 0.5283\n",
            "Epoch 23/65\n",
            "46905/46905 [==============================] - 34s 723us/step - loss: 1.5219 - accuracy: 0.5382\n",
            "Epoch 24/65\n",
            "46905/46905 [==============================] - 33s 714us/step - loss: 1.4812 - accuracy: 0.5497\n",
            "Epoch 25/65\n",
            "46905/46905 [==============================] - 33s 713us/step - loss: 1.4471 - accuracy: 0.5615\n",
            "Epoch 26/65\n",
            "46905/46905 [==============================] - 34s 721us/step - loss: 1.4138 - accuracy: 0.5703\n",
            "Epoch 27/65\n",
            "46905/46905 [==============================] - 33s 694us/step - loss: 1.3815 - accuracy: 0.5818\n",
            "Epoch 28/65\n",
            "46905/46905 [==============================] - 33s 706us/step - loss: 1.3574 - accuracy: 0.5882\n",
            "Epoch 29/65\n",
            "46905/46905 [==============================] - 33s 701us/step - loss: 1.3326 - accuracy: 0.5974\n",
            "Epoch 30/65\n",
            "46905/46905 [==============================] - 33s 694us/step - loss: 1.3025 - accuracy: 0.6054\n",
            "Epoch 31/65\n",
            "46905/46905 [==============================] - 33s 701us/step - loss: 1.2825 - accuracy: 0.6101\n",
            "Epoch 32/65\n",
            "46905/46905 [==============================] - 33s 705us/step - loss: 1.2591 - accuracy: 0.6200\n",
            "Epoch 33/65\n",
            "46905/46905 [==============================] - 33s 712us/step - loss: 1.2457 - accuracy: 0.6222\n",
            "Epoch 34/65\n",
            "46905/46905 [==============================] - 33s 707us/step - loss: 1.2237 - accuracy: 0.6298\n",
            "Epoch 35/65\n",
            "46905/46905 [==============================] - 33s 711us/step - loss: 1.2033 - accuracy: 0.6345\n",
            "Epoch 36/65\n",
            "46905/46905 [==============================] - 33s 701us/step - loss: 1.1832 - accuracy: 0.6402\n",
            "Epoch 37/65\n",
            "46905/46905 [==============================] - 32s 692us/step - loss: 1.1680 - accuracy: 0.6459\n",
            "Epoch 38/65\n",
            "46905/46905 [==============================] - 33s 707us/step - loss: 1.1548 - accuracy: 0.6504\n",
            "Epoch 39/65\n",
            "46905/46905 [==============================] - 33s 702us/step - loss: 1.1414 - accuracy: 0.6560\n",
            "Epoch 40/65\n",
            "46905/46905 [==============================] - 33s 706us/step - loss: 1.1269 - accuracy: 0.6591\n",
            "Epoch 41/65\n",
            "46905/46905 [==============================] - 34s 715us/step - loss: 1.1199 - accuracy: 0.6584\n",
            "Epoch 42/65\n",
            "46905/46905 [==============================] - 33s 704us/step - loss: 1.0983 - accuracy: 0.6668\n",
            "Epoch 43/65\n",
            "46905/46905 [==============================] - 33s 704us/step - loss: 1.0926 - accuracy: 0.6675\n",
            "Epoch 44/65\n",
            "46905/46905 [==============================] - 33s 707us/step - loss: 1.0811 - accuracy: 0.6710\n",
            "Epoch 45/65\n",
            "46905/46905 [==============================] - 33s 706us/step - loss: 1.0659 - accuracy: 0.6762\n",
            "Epoch 46/65\n",
            "46905/46905 [==============================] - 33s 708us/step - loss: 1.0617 - accuracy: 0.6799\n",
            "Epoch 47/65\n",
            "46905/46905 [==============================] - 33s 701us/step - loss: 1.0541 - accuracy: 0.6804\n",
            "Epoch 48/65\n",
            "46905/46905 [==============================] - 33s 704us/step - loss: 1.0387 - accuracy: 0.6832\n",
            "Epoch 49/65\n",
            "46905/46905 [==============================] - 33s 696us/step - loss: 1.0361 - accuracy: 0.6883\n",
            "Epoch 50/65\n",
            "46905/46905 [==============================] - 33s 704us/step - loss: 1.0321 - accuracy: 0.6854\n",
            "Epoch 51/65\n",
            "46905/46905 [==============================] - 33s 698us/step - loss: 1.0173 - accuracy: 0.6915\n",
            "Epoch 52/65\n",
            "46905/46905 [==============================] - 33s 706us/step - loss: 1.0126 - accuracy: 0.6944\n",
            "Epoch 53/65\n",
            "46905/46905 [==============================] - 33s 705us/step - loss: 1.0083 - accuracy: 0.6958\n",
            "Epoch 54/65\n",
            "46905/46905 [==============================] - 34s 721us/step - loss: 0.9960 - accuracy: 0.6985\n",
            "Epoch 55/65\n",
            "46905/46905 [==============================] - 33s 711us/step - loss: 0.9900 - accuracy: 0.7013\n",
            "Epoch 56/65\n",
            "46905/46905 [==============================] - 33s 701us/step - loss: 0.9770 - accuracy: 0.7039\n",
            "Epoch 57/65\n",
            "46905/46905 [==============================] - 33s 705us/step - loss: 0.9809 - accuracy: 0.7031\n",
            "Epoch 58/65\n",
            "46905/46905 [==============================] - 33s 702us/step - loss: 0.9664 - accuracy: 0.7068\n",
            "Epoch 59/65\n",
            "46905/46905 [==============================] - 33s 705us/step - loss: 0.9642 - accuracy: 0.7047\n",
            "Epoch 60/65\n",
            "46905/46905 [==============================] - 33s 708us/step - loss: 0.9511 - accuracy: 0.7091\n",
            "Epoch 61/65\n",
            "46905/46905 [==============================] - 33s 697us/step - loss: 0.9510 - accuracy: 0.7111\n",
            "Epoch 62/65\n",
            "46905/46905 [==============================] - 33s 700us/step - loss: 0.9469 - accuracy: 0.7128\n",
            "Epoch 63/65\n",
            "46905/46905 [==============================] - 33s 712us/step - loss: 0.9427 - accuracy: 0.7147\n",
            "Epoch 64/65\n",
            "46905/46905 [==============================] - 32s 692us/step - loss: 0.9372 - accuracy: 0.7156\n",
            "Epoch 65/65\n",
            "46905/46905 [==============================] - 33s 705us/step - loss: 0.9285 - accuracy: 0.7169\n",
            "[0.6253676089706187, 0.8148503303527832]\n",
            "TRAIN: 46905 TEST: 5212 Epoch 1/65\n",
            "46905/46905 [==============================] - 33s 713us/step - loss: 3.3960 - accuracy: 0.0396\n",
            "Epoch 2/65\n",
            "46905/46905 [==============================] - 33s 709us/step - loss: 3.3853 - accuracy: 0.0480\n",
            "Epoch 3/65\n",
            "46905/46905 [==============================] - 33s 709us/step - loss: 3.3633 - accuracy: 0.0553\n",
            "Epoch 4/65\n",
            "46905/46905 [==============================] - 33s 704us/step - loss: 3.2897 - accuracy: 0.0802\n",
            "Epoch 5/65\n",
            "46905/46905 [==============================] - 33s 697us/step - loss: 3.1012 - accuracy: 0.1189\n",
            "Epoch 6/65\n",
            "46905/46905 [==============================] - 33s 708us/step - loss: 2.8574 - accuracy: 0.1694\n",
            "Epoch 7/65\n",
            "46905/46905 [==============================] - 34s 727us/step - loss: 2.6729 - accuracy: 0.2126\n",
            "Epoch 8/65\n",
            "46905/46905 [==============================] - 33s 697us/step - loss: 2.5299 - accuracy: 0.2543\n",
            "Epoch 9/65\n",
            "46905/46905 [==============================] - 33s 713us/step - loss: 2.4076 - accuracy: 0.2900\n",
            "Epoch 10/65\n",
            "46905/46905 [==============================] - 33s 705us/step - loss: 2.3055 - accuracy: 0.3171\n",
            "Epoch 11/65\n",
            "46905/46905 [==============================] - 33s 710us/step - loss: 2.2123 - accuracy: 0.3427\n",
            "Epoch 12/65\n",
            "46905/46905 [==============================] - 34s 725us/step - loss: 2.1174 - accuracy: 0.3701\n",
            "Epoch 13/65\n",
            "46905/46905 [==============================] - 34s 722us/step - loss: 2.0353 - accuracy: 0.3947\n",
            "Epoch 14/65\n",
            "46905/46905 [==============================] - 34s 715us/step - loss: 1.9573 - accuracy: 0.4146\n",
            "Epoch 15/65\n",
            "46905/46905 [==============================] - 33s 706us/step - loss: 1.8821 - accuracy: 0.4363\n",
            "Epoch 16/65\n",
            "46905/46905 [==============================] - 34s 715us/step - loss: 1.8207 - accuracy: 0.4517\n",
            "Epoch 17/65\n",
            "46905/46905 [==============================] - 34s 722us/step - loss: 1.7558 - accuracy: 0.4730\n",
            "Epoch 18/65\n",
            "46905/46905 [==============================] - 33s 702us/step - loss: 1.6925 - accuracy: 0.4899\n",
            "Epoch 19/65\n",
            "46905/46905 [==============================] - 33s 712us/step - loss: 1.6429 - accuracy: 0.5042\n",
            "Epoch 20/65\n",
            "46905/46905 [==============================] - 33s 707us/step - loss: 1.5757 - accuracy: 0.5229\n",
            "Epoch 21/65\n",
            "46905/46905 [==============================] - 34s 716us/step - loss: 1.5404 - accuracy: 0.5383\n",
            "Epoch 22/65\n",
            "46905/46905 [==============================] - 33s 708us/step - loss: 1.4940 - accuracy: 0.5470\n",
            "Epoch 23/65\n",
            "46905/46905 [==============================] - 33s 703us/step - loss: 1.4728 - accuracy: 0.5540\n",
            "Epoch 24/65\n",
            "46905/46905 [==============================] - 33s 710us/step - loss: 1.4347 - accuracy: 0.5638\n",
            "Epoch 25/65\n",
            "46905/46905 [==============================] - 33s 703us/step - loss: 1.3922 - accuracy: 0.5787\n",
            "Epoch 26/65\n",
            "46905/46905 [==============================] - 34s 714us/step - loss: 1.3644 - accuracy: 0.5867\n",
            "Epoch 27/65\n",
            "46905/46905 [==============================] - 33s 696us/step - loss: 1.3417 - accuracy: 0.5916\n",
            "Epoch 28/65\n",
            "46905/46905 [==============================] - 33s 700us/step - loss: 1.3204 - accuracy: 0.6010\n",
            "Epoch 29/65\n",
            "46905/46905 [==============================] - 33s 694us/step - loss: 1.2932 - accuracy: 0.6072\n",
            "Epoch 30/65\n",
            "46905/46905 [==============================] - 33s 705us/step - loss: 1.2763 - accuracy: 0.6121\n",
            "Epoch 31/65\n",
            "46905/46905 [==============================] - 34s 721us/step - loss: 1.2520 - accuracy: 0.6205\n",
            "Epoch 32/65\n",
            "46905/46905 [==============================] - 33s 704us/step - loss: 1.2350 - accuracy: 0.6272\n",
            "Epoch 33/65\n",
            "46905/46905 [==============================] - 33s 714us/step - loss: 1.2219 - accuracy: 0.6338\n",
            "Epoch 34/65\n",
            "46905/46905 [==============================] - 33s 700us/step - loss: 1.2022 - accuracy: 0.6358\n",
            "Epoch 35/65\n",
            "46905/46905 [==============================] - 34s 720us/step - loss: 1.1874 - accuracy: 0.6401\n",
            "Epoch 36/65\n",
            "46905/46905 [==============================] - 34s 714us/step - loss: 1.1758 - accuracy: 0.6453\n",
            "Epoch 37/65\n",
            "46905/46905 [==============================] - 33s 700us/step - loss: 1.1614 - accuracy: 0.6488\n",
            "Epoch 38/65\n",
            "46905/46905 [==============================] - 33s 708us/step - loss: 1.1442 - accuracy: 0.6523\n",
            "Epoch 39/65\n",
            "46905/46905 [==============================] - 33s 708us/step - loss: 1.1276 - accuracy: 0.6599\n",
            "Epoch 40/65\n",
            "46905/46905 [==============================] - 33s 697us/step - loss: 1.1220 - accuracy: 0.6614\n",
            "Epoch 41/65\n",
            "46905/46905 [==============================] - 33s 699us/step - loss: 1.1118 - accuracy: 0.6628\n",
            "Epoch 42/65\n",
            "46905/46905 [==============================] - 33s 703us/step - loss: 1.0998 - accuracy: 0.6691\n",
            "Epoch 43/65\n",
            "46905/46905 [==============================] - 33s 708us/step - loss: 1.0859 - accuracy: 0.6727\n",
            "Epoch 44/65\n",
            "46905/46905 [==============================] - 33s 695us/step - loss: 1.0804 - accuracy: 0.6746\n",
            "Epoch 45/65\n",
            "46905/46905 [==============================] - 34s 726us/step - loss: 1.0699 - accuracy: 0.6783\n",
            "Epoch 46/65\n",
            "46905/46905 [==============================] - 33s 704us/step - loss: 1.0549 - accuracy: 0.6822\n",
            "Epoch 47/65\n",
            "46905/46905 [==============================] - 33s 714us/step - loss: 1.0530 - accuracy: 0.6801\n",
            "Epoch 48/65\n",
            "46905/46905 [==============================] - 33s 704us/step - loss: 1.0341 - accuracy: 0.6878\n",
            "Epoch 49/65\n",
            "46905/46905 [==============================] - 33s 704us/step - loss: 1.0392 - accuracy: 0.6878\n",
            "Epoch 50/65\n",
            "46905/46905 [==============================] - 33s 711us/step - loss: 1.0207 - accuracy: 0.6913\n",
            "Epoch 51/65\n",
            "46905/46905 [==============================] - 33s 697us/step - loss: 1.0173 - accuracy: 0.6910\n",
            "Epoch 52/65\n",
            "46905/46905 [==============================] - 33s 704us/step - loss: 1.0088 - accuracy: 0.6952\n",
            "Epoch 53/65\n",
            "46905/46905 [==============================] - 33s 702us/step - loss: 0.9927 - accuracy: 0.6984\n",
            "Epoch 54/65\n",
            "46905/46905 [==============================] - 33s 713us/step - loss: 0.9944 - accuracy: 0.7025\n",
            "Epoch 55/65\n",
            "46905/46905 [==============================] - 33s 702us/step - loss: 0.9858 - accuracy: 0.7035\n",
            "Epoch 56/65\n",
            "46905/46905 [==============================] - 33s 708us/step - loss: 0.9862 - accuracy: 0.7021\n",
            "Epoch 57/65\n",
            "46905/46905 [==============================] - 34s 718us/step - loss: 0.9763 - accuracy: 0.7026\n",
            "Epoch 58/65\n",
            "46905/46905 [==============================] - 33s 707us/step - loss: 0.9723 - accuracy: 0.7055\n",
            "Epoch 59/65\n",
            "46905/46905 [==============================] - 34s 726us/step - loss: 0.9660 - accuracy: 0.7082\n",
            "Epoch 60/65\n",
            "46905/46905 [==============================] - 32s 691us/step - loss: 0.9494 - accuracy: 0.7128\n",
            "Epoch 61/65\n",
            "46905/46905 [==============================] - 33s 701us/step - loss: 0.9495 - accuracy: 0.7136\n",
            "Epoch 62/65\n",
            "46905/46905 [==============================] - 33s 704us/step - loss: 0.9417 - accuracy: 0.7165\n",
            "Epoch 63/65\n",
            "46905/46905 [==============================] - 33s 708us/step - loss: 0.9422 - accuracy: 0.7155\n",
            "Epoch 64/65\n",
            "46905/46905 [==============================] - 34s 720us/step - loss: 0.9354 - accuracy: 0.7170\n",
            "Epoch 65/65\n",
            "46905/46905 [==============================] - 33s 713us/step - loss: 0.9317 - accuracy: 0.7194\n",
            "[0.5648825041898287, 0.839984655380249]\n",
            "TRAIN: 46905 TEST: 5212 Epoch 1/65\n",
            "46905/46905 [==============================] - 34s 728us/step - loss: 3.3954 - accuracy: 0.0394\n",
            "Epoch 2/65\n",
            "46905/46905 [==============================] - 34s 715us/step - loss: 3.3858 - accuracy: 0.0449\n",
            "Epoch 3/65\n",
            "46905/46905 [==============================] - 33s 702us/step - loss: 3.3623 - accuracy: 0.0567\n",
            "Epoch 4/65\n",
            "46905/46905 [==============================] - 33s 708us/step - loss: 3.2558 - accuracy: 0.0843\n",
            "Epoch 5/65\n",
            "46905/46905 [==============================] - 33s 699us/step - loss: 3.0280 - accuracy: 0.1294\n",
            "Epoch 6/65\n",
            "46905/46905 [==============================] - 33s 709us/step - loss: 2.8149 - accuracy: 0.1753\n",
            "Epoch 7/65\n",
            "46905/46905 [==============================] - 34s 720us/step - loss: 2.6577 - accuracy: 0.2138\n",
            "Epoch 8/65\n",
            "46905/46905 [==============================] - 34s 719us/step - loss: 2.5394 - accuracy: 0.2477\n",
            "Epoch 9/65\n",
            "46905/46905 [==============================] - 33s 709us/step - loss: 2.4482 - accuracy: 0.2768\n",
            "Epoch 10/65\n",
            "46905/46905 [==============================] - 33s 709us/step - loss: 2.3573 - accuracy: 0.2999\n",
            "Epoch 11/65\n",
            "46905/46905 [==============================] - 33s 708us/step - loss: 2.2864 - accuracy: 0.3207\n",
            "Epoch 12/65\n",
            "46905/46905 [==============================] - 34s 729us/step - loss: 2.2067 - accuracy: 0.3419\n",
            "Epoch 13/65\n",
            "46905/46905 [==============================] - 33s 708us/step - loss: 2.1245 - accuracy: 0.3649\n",
            "Epoch 14/65\n",
            "46905/46905 [==============================] - 33s 709us/step - loss: 2.0581 - accuracy: 0.3850\n",
            "Epoch 15/65\n",
            "46905/46905 [==============================] - 33s 712us/step - loss: 1.9919 - accuracy: 0.4054\n",
            "Epoch 16/65\n",
            "46905/46905 [==============================] - 34s 722us/step - loss: 1.9209 - accuracy: 0.4240\n",
            "Epoch 17/65\n",
            "46905/46905 [==============================] - 34s 716us/step - loss: 1.8528 - accuracy: 0.4420\n",
            "Epoch 18/65\n",
            "46905/46905 [==============================] - 33s 696us/step - loss: 1.7901 - accuracy: 0.4626\n",
            "Epoch 19/65\n",
            "46905/46905 [==============================] - 33s 713us/step - loss: 1.7299 - accuracy: 0.4775\n",
            "Epoch 20/65\n",
            "46905/46905 [==============================] - 33s 703us/step - loss: 1.6738 - accuracy: 0.4934\n",
            "Epoch 21/65\n",
            "46905/46905 [==============================] - 34s 720us/step - loss: 1.6192 - accuracy: 0.5122\n",
            "Epoch 22/65\n",
            "46905/46905 [==============================] - 34s 715us/step - loss: 1.5718 - accuracy: 0.5233\n",
            "Epoch 23/65\n",
            "46905/46905 [==============================] - 33s 703us/step - loss: 1.5184 - accuracy: 0.5381\n",
            "Epoch 24/65\n",
            "46905/46905 [==============================] - 33s 714us/step - loss: 1.4862 - accuracy: 0.5513\n",
            "Epoch 25/65\n",
            "46905/46905 [==============================] - 33s 702us/step - loss: 1.4578 - accuracy: 0.5607\n",
            "Epoch 26/65\n",
            "46905/46905 [==============================] - 34s 718us/step - loss: 1.4140 - accuracy: 0.5728\n",
            "Epoch 27/65\n",
            "46905/46905 [==============================] - 33s 702us/step - loss: 1.3804 - accuracy: 0.5807\n",
            "Epoch 28/65\n",
            "46905/46905 [==============================] - 33s 702us/step - loss: 1.3707 - accuracy: 0.5844\n",
            "Epoch 29/65\n",
            "46905/46905 [==============================] - 33s 713us/step - loss: 1.3343 - accuracy: 0.5941\n",
            "Epoch 30/65\n",
            "46905/46905 [==============================] - 34s 715us/step - loss: 1.3137 - accuracy: 0.6008\n",
            "Epoch 31/65\n",
            "46905/46905 [==============================] - 34s 715us/step - loss: 1.2826 - accuracy: 0.6104\n",
            "Epoch 32/65\n",
            "46905/46905 [==============================] - 33s 700us/step - loss: 1.2603 - accuracy: 0.6173\n",
            "Epoch 33/65\n",
            "46905/46905 [==============================] - 33s 708us/step - loss: 1.2472 - accuracy: 0.6215\n",
            "Epoch 34/65\n",
            "46905/46905 [==============================] - 33s 698us/step - loss: 1.2270 - accuracy: 0.6305\n",
            "Epoch 35/65\n",
            "46905/46905 [==============================] - 33s 711us/step - loss: 1.2097 - accuracy: 0.6338\n",
            "Epoch 36/65\n",
            "46905/46905 [==============================] - 33s 698us/step - loss: 1.1920 - accuracy: 0.6399\n",
            "Epoch 37/65\n",
            "46905/46905 [==============================] - 33s 711us/step - loss: 1.1788 - accuracy: 0.6434\n",
            "Epoch 38/65\n",
            "46905/46905 [==============================] - 33s 711us/step - loss: 1.1559 - accuracy: 0.6479\n",
            "Epoch 39/65\n",
            "46905/46905 [==============================] - 33s 703us/step - loss: 1.1555 - accuracy: 0.6501\n",
            "Epoch 40/65\n",
            "46905/46905 [==============================] - 33s 707us/step - loss: 1.1353 - accuracy: 0.6563\n",
            "Epoch 41/65\n",
            "46905/46905 [==============================] - 33s 704us/step - loss: 1.1171 - accuracy: 0.6622\n",
            "Epoch 42/65\n",
            "46905/46905 [==============================] - 33s 711us/step - loss: 1.1015 - accuracy: 0.6660\n",
            "Epoch 43/65\n",
            "46905/46905 [==============================] - 34s 721us/step - loss: 1.0996 - accuracy: 0.6679\n",
            "Epoch 44/65\n",
            "46905/46905 [==============================] - 34s 716us/step - loss: 1.0783 - accuracy: 0.6732\n",
            "Epoch 45/65\n",
            "46905/46905 [==============================] - 34s 723us/step - loss: 1.0725 - accuracy: 0.6769\n",
            "Epoch 46/65\n",
            "46905/46905 [==============================] - 34s 714us/step - loss: 1.0616 - accuracy: 0.6791\n",
            "Epoch 47/65\n",
            "46905/46905 [==============================] - 33s 695us/step - loss: 1.0453 - accuracy: 0.6827\n",
            "Epoch 48/65\n",
            "46905/46905 [==============================] - 33s 706us/step - loss: 1.0325 - accuracy: 0.6860\n",
            "Epoch 49/65\n",
            "46905/46905 [==============================] - 33s 713us/step - loss: 1.0216 - accuracy: 0.6901\n",
            "Epoch 50/65\n",
            "46905/46905 [==============================] - 33s 699us/step - loss: 1.0139 - accuracy: 0.6939\n",
            "Epoch 51/65\n",
            "46905/46905 [==============================] - 33s 706us/step - loss: 1.0122 - accuracy: 0.6951\n",
            "Epoch 52/65\n",
            "46905/46905 [==============================] - 33s 704us/step - loss: 1.0042 - accuracy: 0.6969\n",
            "Epoch 53/65\n",
            "46905/46905 [==============================] - 33s 707us/step - loss: 0.9878 - accuracy: 0.7002\n",
            "Epoch 54/65\n",
            "46905/46905 [==============================] - 34s 723us/step - loss: 0.9802 - accuracy: 0.7040\n",
            "Epoch 55/65\n",
            "46905/46905 [==============================] - 33s 713us/step - loss: 0.9767 - accuracy: 0.7042\n",
            "Epoch 56/65\n",
            "46905/46905 [==============================] - 33s 711us/step - loss: 0.9757 - accuracy: 0.7056\n",
            "Epoch 57/65\n",
            "46905/46905 [==============================] - 33s 707us/step - loss: 0.9665 - accuracy: 0.7054\n",
            "Epoch 58/65\n",
            "46905/46905 [==============================] - 33s 709us/step - loss: 0.9540 - accuracy: 0.7114\n",
            "Epoch 59/65\n",
            "46905/46905 [==============================] - 33s 705us/step - loss: 0.9575 - accuracy: 0.7107\n",
            "Epoch 60/65\n",
            "46905/46905 [==============================] - 34s 716us/step - loss: 0.9482 - accuracy: 0.7151\n",
            "Epoch 61/65\n",
            "46905/46905 [==============================] - 34s 714us/step - loss: 0.9373 - accuracy: 0.7152\n",
            "Epoch 62/65\n",
            "46905/46905 [==============================] - 34s 717us/step - loss: 0.9331 - accuracy: 0.7162\n",
            "Epoch 63/65\n",
            "46905/46905 [==============================] - 34s 734us/step - loss: 0.9269 - accuracy: 0.7184\n",
            "Epoch 64/65\n",
            "46905/46905 [==============================] - 33s 701us/step - loss: 0.9254 - accuracy: 0.7193\n",
            "Epoch 65/65\n",
            "46905/46905 [==============================] - 33s 710us/step - loss: 0.9190 - accuracy: 0.7198\n",
            "[0.5601686404607704, 0.839984655380249]\n",
            "TRAIN: 46905 TEST: 5212 Epoch 1/65\n",
            "46905/46905 [==============================] - 33s 712us/step - loss: 3.3961 - accuracy: 0.0393\n",
            "Epoch 2/65\n",
            "46905/46905 [==============================] - 33s 708us/step - loss: 3.3861 - accuracy: 0.0474\n",
            "Epoch 3/65\n",
            "46905/46905 [==============================] - 32s 691us/step - loss: 3.3597 - accuracy: 0.0598\n",
            "Epoch 4/65\n",
            "46905/46905 [==============================] - 33s 700us/step - loss: 3.2496 - accuracy: 0.0862\n",
            "Epoch 5/65\n",
            "46905/46905 [==============================] - 33s 708us/step - loss: 3.0040 - accuracy: 0.1352\n",
            "Epoch 6/65\n",
            "46905/46905 [==============================] - 33s 701us/step - loss: 2.7807 - accuracy: 0.1875\n",
            "Epoch 7/65\n",
            "46905/46905 [==============================] - 33s 709us/step - loss: 2.6119 - accuracy: 0.2296\n",
            "Epoch 8/65\n",
            "46905/46905 [==============================] - 33s 711us/step - loss: 2.4852 - accuracy: 0.2638\n",
            "Epoch 9/65\n",
            "46905/46905 [==============================] - 33s 706us/step - loss: 2.3765 - accuracy: 0.2938\n",
            "Epoch 10/65\n",
            "46905/46905 [==============================] - 33s 702us/step - loss: 2.2868 - accuracy: 0.3186\n",
            "Epoch 11/65\n",
            "46905/46905 [==============================] - 33s 696us/step - loss: 2.1942 - accuracy: 0.3445\n",
            "Epoch 12/65\n",
            "46905/46905 [==============================] - 33s 700us/step - loss: 2.1060 - accuracy: 0.3696\n",
            "Epoch 13/65\n",
            "46905/46905 [==============================] - 33s 696us/step - loss: 2.0311 - accuracy: 0.3896\n",
            "Epoch 14/65\n",
            "46905/46905 [==============================] - 34s 715us/step - loss: 1.9624 - accuracy: 0.4159\n",
            "Epoch 15/65\n",
            "46905/46905 [==============================] - 33s 701us/step - loss: 1.8947 - accuracy: 0.4281\n",
            "Epoch 16/65\n",
            "46905/46905 [==============================] - 33s 697us/step - loss: 1.8209 - accuracy: 0.4513\n",
            "Epoch 17/65\n",
            "46905/46905 [==============================] - 34s 718us/step - loss: 1.7581 - accuracy: 0.4703\n",
            "Epoch 18/65\n",
            "46905/46905 [==============================] - 33s 703us/step - loss: 1.7085 - accuracy: 0.4830\n",
            "Epoch 19/65\n",
            "46905/46905 [==============================] - 33s 701us/step - loss: 1.6575 - accuracy: 0.4995\n",
            "Epoch 20/65\n",
            "46905/46905 [==============================] - 33s 705us/step - loss: 1.6138 - accuracy: 0.5120\n",
            "Epoch 21/65\n",
            "46905/46905 [==============================] - 33s 697us/step - loss: 1.5753 - accuracy: 0.5238\n",
            "Epoch 22/65\n",
            "46905/46905 [==============================] - 33s 705us/step - loss: 1.5275 - accuracy: 0.5348\n",
            "Epoch 23/65\n",
            "46905/46905 [==============================] - 33s 699us/step - loss: 1.4998 - accuracy: 0.5438\n",
            "Epoch 24/65\n",
            "46905/46905 [==============================] - 33s 701us/step - loss: 1.4687 - accuracy: 0.5531\n",
            "Epoch 25/65\n",
            "46905/46905 [==============================] - 33s 704us/step - loss: 1.4397 - accuracy: 0.5645\n",
            "Epoch 26/65\n",
            "46905/46905 [==============================] - 34s 719us/step - loss: 1.4089 - accuracy: 0.5734\n",
            "Epoch 27/65\n",
            "46905/46905 [==============================] - 34s 722us/step - loss: 1.3775 - accuracy: 0.5802\n",
            "Epoch 28/65\n",
            "46905/46905 [==============================] - 33s 710us/step - loss: 1.3621 - accuracy: 0.5891\n",
            "Epoch 29/65\n",
            "46905/46905 [==============================] - 34s 719us/step - loss: 1.3249 - accuracy: 0.5983\n",
            "Epoch 30/65\n",
            "46905/46905 [==============================] - 34s 717us/step - loss: 1.3102 - accuracy: 0.6028\n",
            "Epoch 31/65\n",
            "46905/46905 [==============================] - 33s 709us/step - loss: 1.2865 - accuracy: 0.6094\n",
            "Epoch 32/65\n",
            "46905/46905 [==============================] - 33s 700us/step - loss: 1.2560 - accuracy: 0.6194\n",
            "Epoch 33/65\n",
            "46905/46905 [==============================] - 33s 703us/step - loss: 1.2414 - accuracy: 0.6254\n",
            "Epoch 34/65\n",
            "46905/46905 [==============================] - 34s 726us/step - loss: 1.2227 - accuracy: 0.6283\n",
            "Epoch 35/65\n",
            "46905/46905 [==============================] - 34s 720us/step - loss: 1.2079 - accuracy: 0.6342\n",
            "Epoch 36/65\n",
            "46905/46905 [==============================] - 34s 718us/step - loss: 1.1977 - accuracy: 0.6376\n",
            "Epoch 37/65\n",
            "46905/46905 [==============================] - 34s 718us/step - loss: 1.1803 - accuracy: 0.6416\n",
            "Epoch 38/65\n",
            "46905/46905 [==============================] - 33s 711us/step - loss: 1.1634 - accuracy: 0.6491\n",
            "Epoch 39/65\n",
            "46905/46905 [==============================] - 33s 706us/step - loss: 1.1485 - accuracy: 0.6515\n",
            "Epoch 40/65\n",
            "46905/46905 [==============================] - 33s 700us/step - loss: 1.1304 - accuracy: 0.6585\n",
            "Epoch 41/65\n",
            "46905/46905 [==============================] - 33s 705us/step - loss: 1.1221 - accuracy: 0.6584\n",
            "Epoch 42/65\n",
            "46905/46905 [==============================] - 33s 709us/step - loss: 1.1142 - accuracy: 0.6638\n",
            "Epoch 43/65\n",
            "46905/46905 [==============================] - 34s 725us/step - loss: 1.1063 - accuracy: 0.6632\n",
            "Epoch 44/65\n",
            "46905/46905 [==============================] - 33s 714us/step - loss: 1.0896 - accuracy: 0.6686\n",
            "Epoch 45/65\n",
            "46905/46905 [==============================] - 34s 723us/step - loss: 1.0769 - accuracy: 0.6743\n",
            "Epoch 46/65\n",
            "46905/46905 [==============================] - 33s 709us/step - loss: 1.0702 - accuracy: 0.6752\n",
            "Epoch 47/65\n",
            "46905/46905 [==============================] - 33s 708us/step - loss: 1.0640 - accuracy: 0.6795\n",
            "Epoch 48/65\n",
            "46905/46905 [==============================] - 33s 713us/step - loss: 1.0532 - accuracy: 0.6814\n",
            "Epoch 49/65\n",
            "46905/46905 [==============================] - 33s 707us/step - loss: 1.0407 - accuracy: 0.6827\n",
            "Epoch 50/65\n",
            "46905/46905 [==============================] - 34s 719us/step - loss: 1.0292 - accuracy: 0.6883\n",
            "Epoch 51/65\n",
            "46905/46905 [==============================] - 33s 701us/step - loss: 1.0286 - accuracy: 0.6898\n",
            "Epoch 52/65\n",
            "46905/46905 [==============================] - 33s 710us/step - loss: 1.0210 - accuracy: 0.6921\n",
            "Epoch 53/65\n",
            "46905/46905 [==============================] - 34s 720us/step - loss: 1.0181 - accuracy: 0.6924\n",
            "Epoch 54/65\n",
            "46905/46905 [==============================] - 33s 711us/step - loss: 1.0028 - accuracy: 0.6951\n",
            "Epoch 55/65\n",
            "46905/46905 [==============================] - 34s 715us/step - loss: 0.9919 - accuracy: 0.6988\n",
            "Epoch 56/65\n",
            "46905/46905 [==============================] - 33s 702us/step - loss: 0.9918 - accuracy: 0.7004\n",
            "Epoch 57/65\n",
            "46905/46905 [==============================] - 33s 709us/step - loss: 0.9778 - accuracy: 0.7036\n",
            "Epoch 58/65\n",
            "46905/46905 [==============================] - 33s 706us/step - loss: 0.9723 - accuracy: 0.7058\n",
            "Epoch 59/65\n",
            "46905/46905 [==============================] - 33s 696us/step - loss: 0.9622 - accuracy: 0.7086\n",
            "Epoch 60/65\n",
            "46905/46905 [==============================] - 34s 715us/step - loss: 0.9605 - accuracy: 0.7091\n",
            "Epoch 61/65\n",
            "46905/46905 [==============================] - 33s 709us/step - loss: 0.9562 - accuracy: 0.7077\n",
            "Epoch 62/65\n",
            "46905/46905 [==============================] - 33s 704us/step - loss: 0.9579 - accuracy: 0.7094\n",
            "Epoch 63/65\n",
            "46905/46905 [==============================] - 33s 702us/step - loss: 0.9424 - accuracy: 0.7134\n",
            "Epoch 64/65\n",
            "46905/46905 [==============================] - 34s 727us/step - loss: 0.9369 - accuracy: 0.7163\n",
            "Epoch 65/65\n",
            "46905/46905 [==============================] - 33s 711us/step - loss: 0.9253 - accuracy: 0.7192\n",
            "[0.525536461223663, 0.8503453731536865]\n",
            "TRAIN: 46906 TEST: 5211 Epoch 1/65\n",
            "46906/46906 [==============================] - 34s 716us/step - loss: 3.3948 - accuracy: 0.0386\n",
            "Epoch 2/65\n",
            "46906/46906 [==============================] - 33s 694us/step - loss: 3.3831 - accuracy: 0.0452\n",
            "Epoch 3/65\n",
            "46906/46906 [==============================] - 33s 694us/step - loss: 3.3546 - accuracy: 0.0562\n",
            "Epoch 4/65\n",
            "46906/46906 [==============================] - 33s 707us/step - loss: 3.2677 - accuracy: 0.0799\n",
            "Epoch 5/65\n",
            "46906/46906 [==============================] - 33s 709us/step - loss: 3.0595 - accuracy: 0.1288\n",
            "Epoch 6/65\n",
            "46906/46906 [==============================] - 33s 704us/step - loss: 2.8147 - accuracy: 0.1808\n",
            "Epoch 7/65\n",
            "46906/46906 [==============================] - 33s 701us/step - loss: 2.6437 - accuracy: 0.2229\n",
            "Epoch 8/65\n",
            "46906/46906 [==============================] - 33s 712us/step - loss: 2.5068 - accuracy: 0.2600\n",
            "Epoch 9/65\n",
            "46906/46906 [==============================] - 33s 712us/step - loss: 2.3969 - accuracy: 0.2907\n",
            "Epoch 10/65\n",
            "46906/46906 [==============================] - 33s 704us/step - loss: 2.2904 - accuracy: 0.3194\n",
            "Epoch 11/65\n",
            "46906/46906 [==============================] - 33s 698us/step - loss: 2.1926 - accuracy: 0.3480\n",
            "Epoch 12/65\n",
            "46906/46906 [==============================] - 33s 703us/step - loss: 2.1015 - accuracy: 0.3730\n",
            "Epoch 13/65\n",
            "46906/46906 [==============================] - 33s 708us/step - loss: 2.0258 - accuracy: 0.3969\n",
            "Epoch 14/65\n",
            "46906/46906 [==============================] - 33s 709us/step - loss: 1.9492 - accuracy: 0.4181\n",
            "Epoch 15/65\n",
            "46906/46906 [==============================] - 33s 704us/step - loss: 1.8861 - accuracy: 0.4338\n",
            "Epoch 16/65\n",
            "46906/46906 [==============================] - 33s 708us/step - loss: 1.8141 - accuracy: 0.4534\n",
            "Epoch 17/65\n",
            "46906/46906 [==============================] - 34s 720us/step - loss: 1.7441 - accuracy: 0.4764\n",
            "Epoch 18/65\n",
            "46906/46906 [==============================] - 33s 698us/step - loss: 1.6920 - accuracy: 0.4895\n",
            "Epoch 19/65\n",
            "46906/46906 [==============================] - 33s 713us/step - loss: 1.6417 - accuracy: 0.5050\n",
            "Epoch 20/65\n",
            "46906/46906 [==============================] - 34s 719us/step - loss: 1.5894 - accuracy: 0.5194\n",
            "Epoch 21/65\n",
            "46906/46906 [==============================] - 34s 716us/step - loss: 1.5481 - accuracy: 0.5334\n",
            "Epoch 22/65\n",
            "46906/46906 [==============================] - 33s 707us/step - loss: 1.5034 - accuracy: 0.5422\n",
            "Epoch 23/65\n",
            "46906/46906 [==============================] - 33s 709us/step - loss: 1.4677 - accuracy: 0.5577\n",
            "Epoch 24/65\n",
            "46906/46906 [==============================] - 33s 702us/step - loss: 1.4315 - accuracy: 0.5678\n",
            "Epoch 25/65\n",
            "46906/46906 [==============================] - 33s 706us/step - loss: 1.4022 - accuracy: 0.5779\n",
            "Epoch 26/65\n",
            "46906/46906 [==============================] - 34s 727us/step - loss: 1.3711 - accuracy: 0.5868\n",
            "Epoch 27/65\n",
            "46906/46906 [==============================] - 33s 699us/step - loss: 1.3483 - accuracy: 0.5931\n",
            "Epoch 28/65\n",
            "46906/46906 [==============================] - 33s 698us/step - loss: 1.3142 - accuracy: 0.6037\n",
            "Epoch 29/65\n",
            "46906/46906 [==============================] - 33s 704us/step - loss: 1.2940 - accuracy: 0.6105\n",
            "Epoch 30/65\n",
            "46906/46906 [==============================] - 33s 704us/step - loss: 1.2748 - accuracy: 0.6149\n",
            "Epoch 31/65\n",
            "46906/46906 [==============================] - 33s 705us/step - loss: 1.2502 - accuracy: 0.6213\n",
            "Epoch 32/65\n",
            "46906/46906 [==============================] - 33s 712us/step - loss: 1.2277 - accuracy: 0.6282\n",
            "Epoch 33/65\n",
            "46906/46906 [==============================] - 33s 701us/step - loss: 1.2183 - accuracy: 0.6319\n",
            "Epoch 34/65\n",
            "46906/46906 [==============================] - 33s 708us/step - loss: 1.2004 - accuracy: 0.6387\n",
            "Epoch 35/65\n",
            "46906/46906 [==============================] - 33s 704us/step - loss: 1.1873 - accuracy: 0.6379\n",
            "Epoch 36/65\n",
            "46906/46906 [==============================] - 34s 720us/step - loss: 1.1646 - accuracy: 0.6492\n",
            "Epoch 37/65\n",
            "46906/46906 [==============================] - 33s 706us/step - loss: 1.1496 - accuracy: 0.6530\n",
            "Epoch 38/65\n",
            "46906/46906 [==============================] - 33s 709us/step - loss: 1.1420 - accuracy: 0.6553\n",
            "Epoch 39/65\n",
            "46906/46906 [==============================] - 33s 711us/step - loss: 1.1319 - accuracy: 0.6576\n",
            "Epoch 40/65\n",
            "46906/46906 [==============================] - 33s 714us/step - loss: 1.1148 - accuracy: 0.6655\n",
            "Epoch 41/65\n",
            "46906/46906 [==============================] - 33s 699us/step - loss: 1.1073 - accuracy: 0.6670\n",
            "Epoch 42/65\n",
            "46906/46906 [==============================] - 33s 705us/step - loss: 1.0860 - accuracy: 0.6724\n",
            "Epoch 43/65\n",
            "46906/46906 [==============================] - 33s 694us/step - loss: 1.0875 - accuracy: 0.6729\n",
            "Epoch 44/65\n",
            "46906/46906 [==============================] - 33s 696us/step - loss: 1.0743 - accuracy: 0.6739\n",
            "Epoch 45/65\n",
            "46906/46906 [==============================] - 34s 719us/step - loss: 1.0580 - accuracy: 0.6796\n",
            "Epoch 46/65\n",
            "46906/46906 [==============================] - 33s 705us/step - loss: 1.0438 - accuracy: 0.6835\n",
            "Epoch 47/65\n",
            "46906/46906 [==============================] - 33s 708us/step - loss: 1.0427 - accuracy: 0.6865\n",
            "Epoch 48/65\n",
            "46906/46906 [==============================] - 33s 711us/step - loss: 1.0349 - accuracy: 0.6879\n",
            "Epoch 49/65\n",
            "46906/46906 [==============================] - 33s 701us/step - loss: 1.0317 - accuracy: 0.6882\n",
            "Epoch 50/65\n",
            "46906/46906 [==============================] - 33s 701us/step - loss: 1.0223 - accuracy: 0.6912\n",
            "Epoch 51/65\n",
            "46906/46906 [==============================] - 33s 693us/step - loss: 1.0056 - accuracy: 0.6961\n",
            "Epoch 52/65\n",
            "46906/46906 [==============================] - 33s 698us/step - loss: 0.9942 - accuracy: 0.6993\n",
            "Epoch 53/65\n",
            "46906/46906 [==============================] - 33s 695us/step - loss: 0.9960 - accuracy: 0.6997\n",
            "Epoch 54/65\n",
            "46906/46906 [==============================] - 33s 701us/step - loss: 0.9871 - accuracy: 0.6998\n",
            "Epoch 55/65\n",
            "46906/46906 [==============================] - 33s 710us/step - loss: 0.9842 - accuracy: 0.7044\n",
            "Epoch 56/65\n",
            "46906/46906 [==============================] - 33s 709us/step - loss: 0.9796 - accuracy: 0.7043\n",
            "Epoch 57/65\n",
            "46906/46906 [==============================] - 33s 694us/step - loss: 0.9655 - accuracy: 0.7087\n",
            "Epoch 58/65\n",
            "46906/46906 [==============================] - 33s 697us/step - loss: 0.9644 - accuracy: 0.7085\n",
            "Epoch 59/65\n",
            "46906/46906 [==============================] - 33s 703us/step - loss: 0.9545 - accuracy: 0.7107\n",
            "Epoch 60/65\n",
            "46906/46906 [==============================] - 33s 706us/step - loss: 0.9516 - accuracy: 0.7110\n",
            "Epoch 61/65\n",
            "46906/46906 [==============================] - 32s 691us/step - loss: 0.9406 - accuracy: 0.7158\n",
            "Epoch 62/65\n",
            "46906/46906 [==============================] - 33s 712us/step - loss: 0.9435 - accuracy: 0.7140\n",
            "Epoch 63/65\n",
            "46906/46906 [==============================] - 33s 704us/step - loss: 0.9383 - accuracy: 0.7173\n",
            "Epoch 64/65\n",
            "46906/46906 [==============================] - 33s 704us/step - loss: 0.9302 - accuracy: 0.7181\n",
            "Epoch 65/65\n",
            "46906/46906 [==============================] - 34s 716us/step - loss: 0.9228 - accuracy: 0.7217\n",
            "[0.5666816342508374, 0.8361158967018127]\n",
            "TRAIN: 46906 TEST: 5211 Epoch 1/65\n",
            "46906/46906 [==============================] - 33s 693us/step - loss: 3.3934 - accuracy: 0.0402\n",
            "Epoch 2/65\n",
            "46906/46906 [==============================] - 33s 703us/step - loss: 3.3810 - accuracy: 0.0463\n",
            "Epoch 3/65\n",
            "46906/46906 [==============================] - 33s 704us/step - loss: 3.3530 - accuracy: 0.0577\n",
            "Epoch 4/65\n",
            "46906/46906 [==============================] - 33s 700us/step - loss: 3.2820 - accuracy: 0.0745\n",
            "Epoch 5/65\n",
            "46906/46906 [==============================] - 33s 705us/step - loss: 3.1032 - accuracy: 0.1142\n",
            "Epoch 6/65\n",
            "46906/46906 [==============================] - 33s 705us/step - loss: 2.8465 - accuracy: 0.1715\n",
            "Epoch 7/65\n",
            "46906/46906 [==============================] - 33s 712us/step - loss: 2.6530 - accuracy: 0.2201\n",
            "Epoch 8/65\n",
            "46906/46906 [==============================] - 34s 716us/step - loss: 2.5094 - accuracy: 0.2583\n",
            "Epoch 9/65\n",
            "46906/46906 [==============================] - 33s 704us/step - loss: 2.3905 - accuracy: 0.2924\n",
            "Epoch 10/65\n",
            "46906/46906 [==============================] - 34s 715us/step - loss: 2.2851 - accuracy: 0.3198\n",
            "Epoch 11/65\n",
            "46906/46906 [==============================] - 33s 702us/step - loss: 2.1833 - accuracy: 0.3495\n",
            "Epoch 12/65\n",
            "46906/46906 [==============================] - 33s 707us/step - loss: 2.0931 - accuracy: 0.3748\n",
            "Epoch 13/65\n",
            "46906/46906 [==============================] - 34s 719us/step - loss: 2.0126 - accuracy: 0.3991\n",
            "Epoch 14/65\n",
            "46906/46906 [==============================] - 33s 707us/step - loss: 1.9280 - accuracy: 0.4239\n",
            "Epoch 15/65\n",
            "46906/46906 [==============================] - 32s 689us/step - loss: 1.8511 - accuracy: 0.4439\n",
            "Epoch 16/65\n",
            "46906/46906 [==============================] - 33s 705us/step - loss: 1.7797 - accuracy: 0.4668\n",
            "Epoch 17/65\n",
            "46906/46906 [==============================] - 33s 709us/step - loss: 1.7253 - accuracy: 0.4798\n",
            "Epoch 18/65\n",
            "46906/46906 [==============================] - 34s 723us/step - loss: 1.6563 - accuracy: 0.5026\n",
            "Epoch 19/65\n",
            "46906/46906 [==============================] - 33s 707us/step - loss: 1.6002 - accuracy: 0.5169\n",
            "Epoch 20/65\n",
            "46906/46906 [==============================] - 33s 699us/step - loss: 1.5520 - accuracy: 0.5293\n",
            "Epoch 21/65\n",
            "46906/46906 [==============================] - 33s 700us/step - loss: 1.5055 - accuracy: 0.5475\n",
            "Epoch 22/65\n",
            "46906/46906 [==============================] - 34s 717us/step - loss: 1.4673 - accuracy: 0.5558\n",
            "Epoch 23/65\n",
            "46906/46906 [==============================] - 33s 706us/step - loss: 1.4377 - accuracy: 0.5673\n",
            "Epoch 24/65\n",
            "46906/46906 [==============================] - 33s 709us/step - loss: 1.4063 - accuracy: 0.5738\n",
            "Epoch 25/65\n",
            "46906/46906 [==============================] - 33s 706us/step - loss: 1.3670 - accuracy: 0.5880\n",
            "Epoch 26/65\n",
            "46906/46906 [==============================] - 33s 711us/step - loss: 1.3526 - accuracy: 0.5917\n",
            "Epoch 27/65\n",
            "46906/46906 [==============================] - 34s 721us/step - loss: 1.3228 - accuracy: 0.6021\n",
            "Epoch 28/65\n",
            "46906/46906 [==============================] - 33s 705us/step - loss: 1.2953 - accuracy: 0.6067\n",
            "Epoch 29/65\n",
            "46906/46906 [==============================] - 33s 708us/step - loss: 1.2798 - accuracy: 0.6129\n",
            "Epoch 30/65\n",
            "46906/46906 [==============================] - 34s 719us/step - loss: 1.2512 - accuracy: 0.6207\n",
            "Epoch 31/65\n",
            "46906/46906 [==============================] - 33s 712us/step - loss: 1.2425 - accuracy: 0.6247\n",
            "Epoch 32/65\n",
            "46906/46906 [==============================] - 33s 712us/step - loss: 1.2197 - accuracy: 0.6312\n",
            "Epoch 33/65\n",
            "46906/46906 [==============================] - 33s 702us/step - loss: 1.2048 - accuracy: 0.6360\n",
            "Epoch 34/65\n",
            "46906/46906 [==============================] - 33s 714us/step - loss: 1.1929 - accuracy: 0.6412\n",
            "Epoch 35/65\n",
            "46906/46906 [==============================] - 33s 705us/step - loss: 1.1711 - accuracy: 0.6464\n",
            "Epoch 36/65\n",
            "46906/46906 [==============================] - 34s 721us/step - loss: 1.1639 - accuracy: 0.6473\n",
            "Epoch 37/65\n",
            "46906/46906 [==============================] - 33s 709us/step - loss: 1.1499 - accuracy: 0.6522\n",
            "Epoch 38/65\n",
            "46906/46906 [==============================] - 33s 700us/step - loss: 1.1371 - accuracy: 0.6566\n",
            "Epoch 39/65\n",
            "46906/46906 [==============================] - 33s 704us/step - loss: 1.1207 - accuracy: 0.6618\n",
            "Epoch 40/65\n",
            "46906/46906 [==============================] - 34s 716us/step - loss: 1.1110 - accuracy: 0.6632\n",
            "Epoch 41/65\n",
            "46906/46906 [==============================] - 34s 718us/step - loss: 1.1063 - accuracy: 0.6658\n",
            "Epoch 42/65\n",
            "46906/46906 [==============================] - 33s 704us/step - loss: 1.0893 - accuracy: 0.6710\n",
            "Epoch 43/65\n",
            "46906/46906 [==============================] - 33s 697us/step - loss: 1.0841 - accuracy: 0.6730\n",
            "Epoch 44/65\n",
            "46906/46906 [==============================] - 33s 704us/step - loss: 1.0653 - accuracy: 0.6778\n",
            "Epoch 45/65\n",
            "46906/46906 [==============================] - 33s 702us/step - loss: 1.0599 - accuracy: 0.6787\n",
            "Epoch 46/65\n",
            "46906/46906 [==============================] - 34s 726us/step - loss: 1.0509 - accuracy: 0.6816\n",
            "Epoch 47/65\n",
            "46906/46906 [==============================] - 34s 717us/step - loss: 1.0456 - accuracy: 0.6826\n",
            "Epoch 48/65\n",
            "46906/46906 [==============================] - 33s 706us/step - loss: 1.0440 - accuracy: 0.6846\n",
            "Epoch 49/65\n",
            "46906/46906 [==============================] - 33s 711us/step - loss: 1.0319 - accuracy: 0.6895\n",
            "Epoch 50/65\n",
            "46906/46906 [==============================] - 33s 713us/step - loss: 1.0220 - accuracy: 0.6900\n",
            "Epoch 51/65\n",
            "46906/46906 [==============================] - 33s 707us/step - loss: 1.0139 - accuracy: 0.6943\n",
            "Epoch 52/65\n",
            "46906/46906 [==============================] - 33s 697us/step - loss: 1.0006 - accuracy: 0.6974\n",
            "Epoch 53/65\n",
            "46906/46906 [==============================] - 33s 698us/step - loss: 1.0038 - accuracy: 0.6955\n",
            "Epoch 54/65\n",
            "46906/46906 [==============================] - 33s 714us/step - loss: 0.9972 - accuracy: 0.6983\n",
            "Epoch 55/65\n",
            "46906/46906 [==============================] - 34s 731us/step - loss: 0.9796 - accuracy: 0.7024\n",
            "Epoch 56/65\n",
            "46906/46906 [==============================] - 33s 706us/step - loss: 0.9786 - accuracy: 0.7043\n",
            "Epoch 57/65\n",
            "46906/46906 [==============================] - 33s 700us/step - loss: 0.9688 - accuracy: 0.7074\n",
            "Epoch 58/65\n",
            "46906/46906 [==============================] - 33s 704us/step - loss: 0.9686 - accuracy: 0.7060\n",
            "Epoch 59/65\n",
            "46906/46906 [==============================] - 33s 705us/step - loss: 0.9546 - accuracy: 0.7106\n",
            "Epoch 60/65\n",
            "46906/46906 [==============================] - 33s 703us/step - loss: 0.9532 - accuracy: 0.7102\n",
            "Epoch 61/65\n",
            "46906/46906 [==============================] - 33s 695us/step - loss: 0.9450 - accuracy: 0.7114\n",
            "Epoch 62/65\n",
            "46906/46906 [==============================] - 33s 694us/step - loss: 0.9400 - accuracy: 0.7152\n",
            "Epoch 63/65\n",
            "46906/46906 [==============================] - 33s 710us/step - loss: 0.9346 - accuracy: 0.7175\n",
            "Epoch 64/65\n",
            "46906/46906 [==============================] - 34s 722us/step - loss: 0.9278 - accuracy: 0.7186\n",
            "Epoch 65/65\n",
            "46906/46906 [==============================] - 34s 721us/step - loss: 0.9277 - accuracy: 0.7186\n",
            "[0.554815593326968, 0.8389944434165955]\n",
            "TRAIN: 46906 TEST: 5211 Epoch 1/65\n",
            "46906/46906 [==============================] - 33s 706us/step - loss: 3.3932 - accuracy: 0.0395\n",
            "Epoch 2/65\n",
            "46906/46906 [==============================] - 33s 705us/step - loss: 3.3765 - accuracy: 0.0483\n",
            "Epoch 3/65\n",
            "46906/46906 [==============================] - 33s 710us/step - loss: 3.3235 - accuracy: 0.0675\n",
            "Epoch 4/65\n",
            "46906/46906 [==============================] - 33s 714us/step - loss: 3.1846 - accuracy: 0.1055\n",
            "Epoch 5/65\n",
            "46906/46906 [==============================] - 33s 699us/step - loss: 2.9467 - accuracy: 0.1489\n",
            "Epoch 6/65\n",
            "46906/46906 [==============================] - 33s 711us/step - loss: 2.7327 - accuracy: 0.1970\n",
            "Epoch 7/65\n",
            "46906/46906 [==============================] - 33s 711us/step - loss: 2.5753 - accuracy: 0.2368\n",
            "Epoch 8/65\n",
            "46906/46906 [==============================] - 35s 747us/step - loss: 2.4609 - accuracy: 0.2712\n",
            "Epoch 9/65\n",
            "46906/46906 [==============================] - 33s 706us/step - loss: 2.3554 - accuracy: 0.3009\n",
            "Epoch 10/65\n",
            "46906/46906 [==============================] - 34s 720us/step - loss: 2.2668 - accuracy: 0.3332\n",
            "Epoch 11/65\n",
            "46906/46906 [==============================] - 34s 717us/step - loss: 2.1754 - accuracy: 0.3535\n",
            "Epoch 12/65\n",
            "46906/46906 [==============================] - 33s 711us/step - loss: 2.0955 - accuracy: 0.3776\n",
            "Epoch 13/65\n",
            "46906/46906 [==============================] - 33s 701us/step - loss: 2.0306 - accuracy: 0.3946\n",
            "Epoch 14/65\n",
            "46906/46906 [==============================] - 33s 710us/step - loss: 1.9619 - accuracy: 0.4132\n",
            "Epoch 15/65\n",
            "46906/46906 [==============================] - 33s 707us/step - loss: 1.9012 - accuracy: 0.4293\n",
            "Epoch 16/65\n",
            "46906/46906 [==============================] - 33s 697us/step - loss: 1.8367 - accuracy: 0.4505\n",
            "Epoch 17/65\n",
            "46906/46906 [==============================] - 33s 701us/step - loss: 1.7724 - accuracy: 0.4663\n",
            "Epoch 18/65\n",
            "46906/46906 [==============================] - 34s 715us/step - loss: 1.7295 - accuracy: 0.4806\n",
            "Epoch 19/65\n",
            "46906/46906 [==============================] - 33s 704us/step - loss: 1.6816 - accuracy: 0.4933\n",
            "Epoch 20/65\n",
            "46906/46906 [==============================] - 34s 726us/step - loss: 1.6244 - accuracy: 0.5111\n",
            "Epoch 21/65\n",
            "46906/46906 [==============================] - 33s 714us/step - loss: 1.5788 - accuracy: 0.5239\n",
            "Epoch 22/65\n",
            "46906/46906 [==============================] - 33s 701us/step - loss: 1.5356 - accuracy: 0.5382\n",
            "Epoch 23/65\n",
            "46906/46906 [==============================] - 33s 699us/step - loss: 1.4987 - accuracy: 0.5451\n",
            "Epoch 24/65\n",
            "46906/46906 [==============================] - 33s 712us/step - loss: 1.4608 - accuracy: 0.5610\n",
            "Epoch 25/65\n",
            "46906/46906 [==============================] - 33s 705us/step - loss: 1.4318 - accuracy: 0.5662\n",
            "Epoch 26/65\n",
            "46906/46906 [==============================] - 33s 699us/step - loss: 1.4049 - accuracy: 0.5745\n",
            "Epoch 27/65\n",
            "46906/46906 [==============================] - 34s 726us/step - loss: 1.3832 - accuracy: 0.5809\n",
            "Epoch 28/65\n",
            "46906/46906 [==============================] - 33s 696us/step - loss: 1.3616 - accuracy: 0.5881\n",
            "Epoch 29/65\n",
            "46906/46906 [==============================] - 33s 714us/step - loss: 1.3331 - accuracy: 0.5974\n",
            "Epoch 30/65\n",
            "46906/46906 [==============================] - 33s 705us/step - loss: 1.3086 - accuracy: 0.6045\n",
            "Epoch 31/65\n",
            "46906/46906 [==============================] - 33s 704us/step - loss: 1.2884 - accuracy: 0.6120\n",
            "Epoch 32/65\n",
            "46906/46906 [==============================] - 33s 702us/step - loss: 1.2779 - accuracy: 0.6114\n",
            "Epoch 33/65\n",
            "46906/46906 [==============================] - 33s 709us/step - loss: 1.2560 - accuracy: 0.6211\n",
            "Epoch 34/65\n",
            "46906/46906 [==============================] - 33s 708us/step - loss: 1.2353 - accuracy: 0.6280\n",
            "Epoch 35/65\n",
            "46906/46906 [==============================] - 33s 713us/step - loss: 1.2201 - accuracy: 0.6292\n",
            "Epoch 36/65\n",
            "46906/46906 [==============================] - 33s 714us/step - loss: 1.2065 - accuracy: 0.6333\n",
            "Epoch 37/65\n",
            "46906/46906 [==============================] - 33s 694us/step - loss: 1.1980 - accuracy: 0.6383\n",
            "Epoch 38/65\n",
            "46906/46906 [==============================] - 33s 701us/step - loss: 1.1823 - accuracy: 0.6417\n",
            "Epoch 39/65\n",
            "46906/46906 [==============================] - 33s 703us/step - loss: 1.1705 - accuracy: 0.6489\n",
            "Epoch 40/65\n",
            "46906/46906 [==============================] - 33s 696us/step - loss: 1.1602 - accuracy: 0.6476\n",
            "Epoch 41/65\n",
            "46906/46906 [==============================] - 33s 707us/step - loss: 1.1420 - accuracy: 0.6517\n",
            "Epoch 42/65\n",
            "46906/46906 [==============================] - 33s 709us/step - loss: 1.1398 - accuracy: 0.6565\n",
            "Epoch 43/65\n",
            "46906/46906 [==============================] - 33s 703us/step - loss: 1.1165 - accuracy: 0.6638\n",
            "Epoch 44/65\n",
            "46906/46906 [==============================] - 33s 710us/step - loss: 1.1153 - accuracy: 0.6636\n",
            "Epoch 45/65\n",
            "46906/46906 [==============================] - 33s 711us/step - loss: 1.0995 - accuracy: 0.6705\n",
            "Epoch 46/65\n",
            "46906/46906 [==============================] - 34s 724us/step - loss: 1.0994 - accuracy: 0.6673\n",
            "Epoch 47/65\n",
            "46906/46906 [==============================] - 34s 721us/step - loss: 1.0773 - accuracy: 0.6731\n",
            "Epoch 48/65\n",
            "46906/46906 [==============================] - 33s 706us/step - loss: 1.0728 - accuracy: 0.6764\n",
            "Epoch 49/65\n",
            "46906/46906 [==============================] - 33s 710us/step - loss: 1.0657 - accuracy: 0.6790\n",
            "Epoch 50/65\n",
            "46906/46906 [==============================] - 33s 707us/step - loss: 1.0591 - accuracy: 0.6815\n",
            "Epoch 51/65\n",
            "46906/46906 [==============================] - 33s 710us/step - loss: 1.0504 - accuracy: 0.6835\n",
            "Epoch 52/65\n",
            "46906/46906 [==============================] - 33s 708us/step - loss: 1.0347 - accuracy: 0.6863\n",
            "Epoch 53/65\n",
            "46906/46906 [==============================] - 33s 705us/step - loss: 1.0272 - accuracy: 0.6922\n",
            "Epoch 54/65\n",
            "46906/46906 [==============================] - 33s 704us/step - loss: 1.0190 - accuracy: 0.6907\n",
            "Epoch 55/65\n",
            "46906/46906 [==============================] - 34s 718us/step - loss: 1.0065 - accuracy: 0.6983\n",
            "Epoch 56/65\n",
            "46906/46906 [==============================] - 34s 723us/step - loss: 1.0088 - accuracy: 0.6968\n",
            "Epoch 57/65\n",
            "46906/46906 [==============================] - 33s 711us/step - loss: 0.9969 - accuracy: 0.6991\n",
            "Epoch 58/65\n",
            "46906/46906 [==============================] - 33s 707us/step - loss: 0.9881 - accuracy: 0.7004\n",
            "Epoch 59/65\n",
            "46906/46906 [==============================] - 33s 698us/step - loss: 0.9817 - accuracy: 0.7036\n",
            "Epoch 60/65\n",
            "46906/46906 [==============================] - 33s 705us/step - loss: 0.9795 - accuracy: 0.7030\n",
            "Epoch 61/65\n",
            "46906/46906 [==============================] - 33s 704us/step - loss: 0.9737 - accuracy: 0.7081\n",
            "Epoch 62/65\n",
            "46906/46906 [==============================] - 33s 709us/step - loss: 0.9597 - accuracy: 0.7107\n",
            "Epoch 63/65\n",
            "46906/46906 [==============================] - 33s 714us/step - loss: 0.9643 - accuracy: 0.7075\n",
            "Epoch 64/65\n",
            "46906/46906 [==============================] - 34s 714us/step - loss: 0.9550 - accuracy: 0.7120\n",
            "Epoch 65/65\n",
            "46906/46906 [==============================] - 34s 720us/step - loss: 0.9488 - accuracy: 0.7135\n",
            "[0.5617658158818217, 0.8378430008888245]\n",
            "[[0.5928769217416678, 0.8294320702552795], [0.6504284438955171, 0.8150421977043152], [0.5788970370751935, 0.839984655380249], [0.6253676089706187, 0.8148503303527832], [0.5648825041898287, 0.839984655380249], [0.5601686404607704, 0.839984655380249], [0.525536461223663, 0.8503453731536865], [0.5666816342508374, 0.8361158967018127], [0.554815593326968, 0.8389944434165955], [0.5617658158818217, 0.8378430008888245]]\n"
          ],
          "name": "stdout"
        }
      ]
    },
    {
      "cell_type": "code",
      "metadata": {
        "id": "0H5JtpjC00uh",
        "colab_type": "code",
        "colab": {
          "base_uri": "https://localhost:8080/",
          "height": 281
        },
        "outputId": "02faece7-4ff4-420b-f1fc-6753acdc7467"
      },
      "source": [
        "sc = [s[1] for s in scores]\n",
        "sc = np.array(sc)\n",
        "import pickle\n",
        "name = \"cnn\"\n",
        "best_model = modelli[sc.argmax()]\n",
        "filename = '/content/drive/My Drive/ModelliSalvati/Audio/Classificatori/'+name+'.sav'\n",
        "pickle.dump(best_model, open(filename, 'wb'))\n",
        "import matplotlib.pyplot as plt\n",
        "plt.plot(sc,scaley=False,color=\"b\")\n",
        "plt.title(name+\" KFOLD Cross Validation\")\n",
        "plt.savefig(\"/content/drive/My Drive/ModelliSalvati/Audio/Classificatori/\"+name+\".png\")"
      ],
      "execution_count": null,
      "outputs": [
        {
          "output_type": "display_data",
          "data": {
            "image/png": "[encoded data removed]",
            "text/plain": [
              "<Figure size 432x288 with 1 Axes>"
            ]
          },
          "metadata": {
            "tags": [],
            "needs_background": "light"
          }
        }
      ]
    },
    {
      "cell_type": "code",
      "metadata": {
        "id": "UfRXtSjp7W7V",
        "colab_type": "code",
        "colab": {}
      },
      "source": [
        "import tensorflow as tf\n",
        "import keras \n",
        "# model = keras.models.Sequential()\n",
        "# model.add(layers.Dense(1000, input_shape=(x_train.shape[1],)))\n",
        "# model.add(layers.Dense(128, activation='relu '))\n",
        "# model.add(layers.Dense(64, activation='relu'))\n",
        "# model.add(layers.Dense(30, activation='softmax'))\n",
        "\n",
        "# model = keras.models.Sequential([\n",
        "#  keras.layers.Conv2D(128,4, activation=\"relu\", padding=\"same\", input_shape=[x_train.shape[1],x_train.shape[2],1]),\n",
        "#  keras.layers.MaxPooling2D(2),\n",
        "#  keras.layers.Conv2D(256, 3, activation=\"relu\", padding=\"same\"),\n",
        "#  keras.layers.Conv2D(256, 3, activation=\"relu\", padding=\"same\"),\n",
        "#  keras.layers.MaxPooling2D(2),\n",
        "#  keras.layers.Conv2D(512, 3, activation=\"relu\", padding=\"same\"),\n",
        "#  keras.layers.Conv2D(512, 3, activation=\"relu\", padding=\"same\"),\n",
        "#  keras.layers.MaxPooling2D(2),\n",
        "#  keras.layers.Flatten(),\n",
        "#  keras.layers.Dense(128, activation=\"relu\"),\n",
        "#  keras.layers.Dropout(0.5),\n",
        "#  keras.layers.Dense(64, activation=\"relu\"),\n",
        "#  keras.layers.Dropout(0.5),\n",
        "#  keras.layers.Dense(30, activation=\"softmax\")\n",
        "# ])\n",
        "\n",
        "model = keras.models.Sequential()\n",
        "input_shape=(x_train.shape[1],x_train.shape[2],1)\n",
        "#1st hidden layer\n",
        "model.add(keras.layers.Conv2D(32, (3, 3), strides=(2, 2), input_shape=input_shape))\n",
        "model.add(keras.layers.AveragePooling2D((2, 2), strides=(2,2)))\n",
        "model.add(keras.layers.Activation('relu'))\n",
        "#2nd hidden layer\n",
        "model.add(keras.layers.Conv2D(64, (3, 3), padding=\"same\"))\n",
        "model.add(keras.layers.AveragePooling2D((2, 2), strides=(2,2)))\n",
        "model.add(keras.layers.Activation('relu'))\n",
        "#3rd hidden layer\n",
        "model.add(keras.layers.Conv2D(64, (3, 3), padding=\"same\"))\n",
        "model.add(keras.layers.AveragePooling2D((2, 2), strides=(2,2)))\n",
        "model.add(keras.layers.Activation('relu'))\n",
        "#Flatten\n",
        "model.add(keras.layers.Flatten())\n",
        "model.add(keras.layers.Dropout(rate=0.5))\n",
        "#Add fully connected layer.\n",
        "model.add(keras.layers.Dense(64))\n",
        "model.add(keras.layers.Activation('relu'))\n",
        "model.add(keras.layers.Dropout(rate=0.5))\n",
        "#Output layer\n",
        "model.add(keras.layers.Dense(30))\n",
        "model.add(keras.layers.Activation('softmax'))"
      ],
      "execution_count": null,
      "outputs": []
    },
    {
      "cell_type": "code",
      "metadata": {
        "id": "D_ZUyDglQ4DO",
        "colab_type": "code",
        "colab": {}
      },
      "source": [
        "model.summary()"
      ],
      "execution_count": null,
      "outputs": []
    },
    {
      "cell_type": "code",
      "metadata": {
        "id": "4KoUlAke7iQP",
        "colab_type": "code",
        "colab": {}
      },
      "source": [
        "model.compile(optimizer='adam', loss='sparse_categorical_crossentropy', metrics=['accuracy'])"
      ],
      "execution_count": null,
      "outputs": []
    },
    {
      "cell_type": "code",
      "metadata": {
        "id": "N3icAFTw7j9o",
        "colab_type": "code",
        "colab": {
          "base_uri": "https://localhost:8080/",
          "height": 201
        },
        "outputId": "19f2b978-bbad-4c69-8f09-fa10999e256d"
      },
      "source": [
        "history = model.fit(x_train, y_train, epochs=5, validation_data=(x_test, y_test), batch_size=35) # about 64 epoch"
      ],
      "execution_count": null,
      "outputs": [
        {
          "output_type": "stream",
          "text": [
            "Train on 36481 samples, validate on 15636 samples\n",
            "Epoch 1/5\n",
            "36481/36481 [==============================] - 35s 953us/step - loss: 2.7755 - accuracy: 0.1882 - val_loss: 1.9900 - val_accuracy: 0.4456\n",
            "Epoch 2/5\n",
            "36481/36481 [==============================] - 34s 941us/step - loss: 2.0585 - accuracy: 0.3795 - val_loss: 1.4072 - val_accuracy: 0.6140\n",
            "Epoch 3/5\n",
            "36481/36481 [==============================] - 37s 1ms/step - loss: 1.6700 - accuracy: 0.4960 - val_loss: 1.0729 - val_accuracy: 0.6947\n",
            "Epoch 4/5\n",
            "36481/36481 [==============================] - 37s 1ms/step - loss: 1.4840 - accuracy: 0.5482 - val_loss: 0.9696 - val_accuracy: 0.7297\n",
            "Epoch 5/5\n",
            "36481/36481 [==============================] - 36s 984us/step - loss: 1.3668 - accuracy: 0.5871 - val_loss: 0.8973 - val_accuracy: 0.7452\n"
          ],
          "name": "stdout"
        }
      ]
    },
    {
      "cell_type": "code",
      "metadata": {
        "id": "gDXkLli9Ggoo",
        "colab_type": "code",
        "colab": {}
      },
      "source": [
        "# SAVE CNN TO FS\n",
        "model.save(\"/content/drive/My Drive/best_audio_cnn_model.h5\")"
      ],
      "execution_count": null,
      "outputs": []
    },
    {
      "cell_type": "code",
      "metadata": {
        "id": "1g_tBW9BNrLL",
        "colab_type": "code",
        "colab": {
          "base_uri": "https://localhost:8080/",
          "height": 201
        },
        "outputId": "947e02ac-407e-4f55-d6a2-a058080d0bd5"
      },
      "source": [
        "history = model.fit(x_train, y_train, epochs=5, validation_data=(x_test, y_test), batch_size=35) # about 64 epoch"
      ],
      "execution_count": null,
      "outputs": [
        {
          "output_type": "stream",
          "text": [
            "Train on 36481 samples, validate on 15636 samples\n",
            "Epoch 1/5\n",
            "36481/36481 [==============================] - 36s 980us/step - loss: 0.6839 - accuracy: 0.7926 - val_loss: 0.4142 - val_accuracy: 0.8833\n",
            "Epoch 2/5\n",
            "36481/36481 [==============================] - 36s 983us/step - loss: 0.6799 - accuracy: 0.7923 - val_loss: 0.4068 - val_accuracy: 0.8812\n",
            "Epoch 3/5\n",
            "36481/36481 [==============================] - 34s 942us/step - loss: 0.6728 - accuracy: 0.7944 - val_loss: 0.4231 - val_accuracy: 0.8777\n",
            "Epoch 4/5\n",
            "36481/36481 [==============================] - 35s 968us/step - loss: 0.6798 - accuracy: 0.7915 - val_loss: 0.4048 - val_accuracy: 0.8821\n",
            "Epoch 5/5\n",
            "36470/36481 [============================>.] - ETA: 0s - loss: 0.6737 - accuracy: 0.7942"
          ],
          "name": "stdout"
        }
      ]
    },
    {
      "cell_type": "code",
      "metadata": {
        "id": "T3umUEVsKvLZ",
        "colab_type": "code",
        "colab": {}
      },
      "source": [
        "# READ CNN FROM FS\n",
        "from keras.models import load_model\n",
        "import h5py\n",
        "model = tf.keras.models.load_model('/content/drive/My Drive/best_audio_cnn_model.h5')"
      ],
      "execution_count": null,
      "outputs": []
    },
    {
      "cell_type": "code",
      "metadata": {
        "id": "qFHVwPA-juww",
        "colab_type": "code",
        "colab": {}
      },
      "source": [
        "ynew = model.predict_classes(x_test)"
      ],
      "execution_count": null,
      "outputs": []
    },
    {
      "cell_type": "code",
      "metadata": {
        "id": "dLINwh_PlV03",
        "colab_type": "code",
        "colab": {
          "base_uri": "https://localhost:8080/",
          "height": 33
        },
        "outputId": "9cdd7347-f6ef-4270-83b3-62c40d6f345c"
      },
      "source": [
        "from sklearn.metrics import accuracy_score,confusion_matrix\n",
        "accuracy_score(y_test,ynew)"
      ],
      "execution_count": null,
      "outputs": [
        {
          "output_type": "execute_result",
          "data": {
            "text/plain": [
              "0.8844973138910207"
            ]
          },
          "metadata": {
            "tags": []
          },
          "execution_count": 15
        }
      ]
    },
    {
      "cell_type": "code",
      "metadata": {
        "id": "zWSbCReMoH2o",
        "colab_type": "code",
        "colab": {}
      },
      "source": [
        "from sklearn.metrics import plot_confusion_matrix\n",
        "plot_confusion_matrix(model.fit_generator, x_test, y_test)\n",
        "plt.show()"
      ],
      "execution_count": null,
      "outputs": []
    },
    {
      "cell_type": "code",
      "metadata": {
        "id": "jTHehVWSmutm",
        "colab_type": "code",
        "colab": {}
      },
      "source": [
        "cm = confusion_matrix(y_test, ynew)\n",
        "pd.DataFrame(cm, columns=range(30)).head(30)"
      ],
      "execution_count": null,
      "outputs": []
    },
    {
      "cell_type": "code",
      "metadata": {
        "id": "vXysipkMnzVt",
        "colab_type": "code",
        "colab": {}
      },
      "source": [
        "disp = plot_confusion_matrix(classifier, X_test, y_test,\n",
        "                                 display_labels=class_names,\n",
        "                                 cmap=plt.cm.Blues,\n",
        "                                 normalize=True)\n",
        "disp.ax_.set_title(title)"
      ],
      "execution_count": null,
      "outputs": []
    },
    {
      "cell_type": "code",
      "metadata": {
        "id": "6QZFaTIwm_pg",
        "colab_type": "code",
        "colab": {}
      },
      "source": [
        "from sklearn.metrics import classification_report\n",
        "y_pred = ynew\n",
        "report = classification_report(y_test, y_pred)\n",
        "print(report)"
      ],
      "execution_count": null,
      "outputs": []
    },
    {
      "cell_type": "code",
      "metadata": {
        "id": "i2v6qKUEp76-",
        "colab_type": "code",
        "colab": {}
      },
      "source": [
        "models = {}\n",
        "models_history = []\n",
        "def save_model(name, model, persist=False):\n",
        "  if name not in models:\n",
        "    models[name]=[model]\n",
        "  else:\n",
        "    models[name].append(model)\n",
        "  \n",
        "  if len(models_history)>=10:\n",
        "    models_history.pop(0)\n",
        "  print(name + \" saved!\")\n",
        "  \n",
        "  if persist:\n",
        "    print(persist)\n",
        "\n",
        "  models_history.append((name,model))"
      ],
      "execution_count": null,
      "outputs": []
    },
    {
      "cell_type": "code",
      "metadata": {
        "id": "JjlB3SDp-X4g",
        "colab_type": "code",
        "colab": {}
      },
      "source": [
        "from sklearn.mixture import GaussianMixture\n",
        "clf = GaussianMixture(n_components=30)\n",
        "l = clf.fit(x_train,y_train)\n",
        "save_model(\"GMM\",clf.fit(x_train,y_train))"
      ],
      "execution_count": null,
      "outputs": []
    },
    {
      "cell_type": "code",
      "metadata": {
        "id": "rFdQOita7QnR",
        "colab_type": "code",
        "colab": {}
      },
      "source": [
        "from sklearn.neighbors import KNeighborsClassifier\n",
        "clf = KNeighborsClassifier(n_neighbors=2).fit(x_train,y_train)\n",
        "# save_model(\"KNN\",clf.fit(x_train,y_train))"
      ],
      "execution_count": 6,
      "outputs": []
    },
    {
      "cell_type": "code",
      "metadata": {
        "id": "rmd7hOP5LjqS",
        "colab_type": "code",
        "colab": {}
      },
      "source": [
        "y_new = clf.predict(x_test)"
      ],
      "execution_count": null,
      "outputs": []
    },
    {
      "cell_type": "code",
      "metadata": {
        "id": "se8znPnMgQuG",
        "colab_type": "code",
        "colab": {
          "base_uri": "https://localhost:8080/",
          "height": 33
        },
        "outputId": "2f9ca228-0ecb-4bb1-ea76-4b8448f96c6d"
      },
      "source": [
        "from sklearn.metrics import accuracy_score\n",
        "report = accuracy_score(y_test, y_new)\n",
        "print(report)"
      ],
      "execution_count": null,
      "outputs": [
        {
          "output_type": "stream",
          "text": [
            "0.5625479662317728\n"
          ],
          "name": "stdout"
        }
      ]
    },
    {
      "cell_type": "code",
      "metadata": {
        "id": "1N4w-fexlSBl",
        "colab_type": "code",
        "colab": {}
      },
      "source": [
        ""
      ],
      "execution_count": null,
      "outputs": []
    },
    {
      "cell_type": "code",
      "metadata": {
        "id": "aCAXWR35g5El",
        "colab_type": "code",
        "colab": {}
      },
      "source": [
        "# save the model to disk\n",
        "import pickle\n",
        "filename = '/content/drive/My Drive/ModelliSalvati/Audio/Classificatori/KNN.sav'\n",
        "pickle.dump(clf, open(filename, 'wb'))"
      ],
      "execution_count": null,
      "outputs": []
    },
    {
      "cell_type": "code",
      "metadata": {
        "id": "KTXlEHQWOqk_",
        "colab_type": "code",
        "colab": {
          "base_uri": "https://localhost:8080/",
          "height": 33
        },
        "outputId": "af0d72d7-3c26-4261-88af-bfb4907267c7"
      },
      "source": [
        "print(\"ciao\")"
      ],
      "execution_count": null,
      "outputs": [
        {
          "output_type": "stream",
          "text": [
            "ciao\n"
          ],
          "name": "stdout"
        }
      ]
    },
    {
      "cell_type": "code",
      "metadata": {
        "id": "0fQhXCMVoCAf",
        "colab_type": "code",
        "colab": {
          "base_uri": "https://localhost:8080/",
          "height": 33
        },
        "outputId": "aa54b427-7a69-4efe-94de-92579cc621a7"
      },
      "source": [
        "from sklearn.naive_bayes import CategoricalNB\n",
        "clf = CategoricalNB(fit_prior=False)\n",
        "# save_model(\"CategoricalNB\",clf.fit(x_train,y_train))"
      ],
      "execution_count": null,
      "outputs": [
        {
          "output_type": "stream",
          "text": [
            "CategoricalNB saved!\n"
          ],
          "name": "stdout"
        }
      ]
    },
    {
      "cell_type": "code",
      "metadata": {
        "id": "K6zAIuOeYx_e",
        "colab_type": "code",
        "colab": {}
      },
      "source": [
        ""
      ],
      "execution_count": null,
      "outputs": []
    },
    {
      "cell_type": "code",
      "metadata": {
        "id": "dufCjuocq3UW",
        "colab_type": "code",
        "colab": {
          "base_uri": "https://localhost:8080/",
          "height": 33
        },
        "outputId": "40d66c09-be3c-4188-dce2-11681f6ae13c"
      },
      "source": [
        "from sklearn.neighbors import KernelDensity\n",
        "clf = KernelDensity(kernel=\"gaussian\", bandwidth=0.5)\n",
        "save_model(\"KernelDensity\",clf.fit(x_train))"
      ],
      "execution_count": null,
      "outputs": [
        {
          "output_type": "stream",
          "text": [
            "KernelDensity saved!\n"
          ],
          "name": "stdout"
        }
      ]
    },
    {
      "cell_type": "code",
      "metadata": {
        "id": "H9o6LkR9rQb6",
        "colab_type": "code",
        "colab": {
          "base_uri": "https://localhost:8080/",
          "height": 33
        },
        "outputId": "6bcd0623-3acb-48f9-a982-ac4254fff150"
      },
      "source": [
        "from sklearn.ensemble import AdaBoostClassifier\n",
        "clf = AdaBoostClassifier(n_estimators=50, random_state=0, )\n",
        "save_model(\"adaboost\",clf.fit(x_train,y_train))"
      ],
      "execution_count": null,
      "outputs": [
        {
          "output_type": "stream",
          "text": [
            "adaboost saved!\n"
          ],
          "name": "stdout"
        }
      ]
    },
    {
      "cell_type": "code",
      "metadata": {
        "id": "NbxUMlowrSqW",
        "colab_type": "code",
        "colab": {
          "base_uri": "https://localhost:8080/",
          "height": 50
        },
        "outputId": "7612bb75-7458-44a7-ba2f-2b03c8f2a677"
      },
      "source": [
        "# for m in models_history:\n",
        "#   print(m[0],end=\" \")\n",
        "#   print(m[1].score(x_test,y_test))\n",
        "print(models_history[len(models_history)-1][0])\n",
        "models_history[len(models_history)-1][1].score(x_test,y_test)"
      ],
      "execution_count": null,
      "outputs": [
        {
          "output_type": "stream",
          "text": [
            "adaboost\n"
          ],
          "name": "stdout"
        },
        {
          "output_type": "execute_result",
          "data": {
            "text/plain": [
              "0.1612576064908722"
            ]
          },
          "metadata": {
            "tags": []
          },
          "execution_count": 19
        }
      ]
    },
    {
      "cell_type": "code",
      "metadata": {
        "id": "E6ZnvLE1kih-",
        "colab_type": "code",
        "colab": {
          "base_uri": "https://localhost:8080/",
          "height": 33
        },
        "outputId": "d41cc0db-fb26-4b86-fa1f-95b605ebbf81"
      },
      "source": [
        "from numpy import array\n",
        "from sklearn.model_selection import KFold\n",
        "from sklearn.ensemble import AdaBoostClassifier\n",
        "from sklearn.svm import SVC\n",
        "from sklearn.pipeline import make_pipeline\n",
        "from sklearn.preprocessing import StandardScaler\n",
        "from sklearn.naive_bayes import CategoricalNB\n",
        "from sklearn.neighbors import KNeighborsClassifier\n",
        "from sklearn.neighbors import KernelDensity\n",
        "modelli = []\n",
        "def kfoldcv(classifier):\n",
        "  kf = KFold(n_splits=10,shuffle=True,random_state=43)\n",
        "  kf.get_n_splits(x) # RIMETTERE x PER CONSIDERARE TUTTO IL DATASET \n",
        "  scores = []\n",
        "  for train_index, test_index in kf.split(x):\n",
        "      print(\"TRAIN:\", len(train_index), \"TEST:\", len(test_index), end=\" \")\n",
        "      x_train_cv, x_test_cv = x[train_index], x[test_index]\n",
        "      y_train_cv, y_test_cv = y[train_index], y[test_index]\n",
        "      clf = classifier.fit(x_train_cv,y_train_cv)\n",
        "      s = clf.score(x_test_cv,y_test_cv)\n",
        "      scores.append(s)\n",
        "      modelli.append(clf)\n",
        "      print(s)\n",
        "  return np.array(scores),clf\n",
        "clfs = [\n",
        "        AdaBoostClassifier(n_estimators=50, random_state=0),\n",
        "        make_pipeline(StandardScaler(), SVC(gamma='auto')),\n",
        "        KNeighborsClassifier(n_neighbors=2),\n",
        "        CategoricalNB(fit_prior=False),\n",
        "        KernelDensity(kernel=\"gaussian\", bandwidth=0.5)\n",
        "]\n",
        "scores,clf = kfoldcv(clfs[4])"
      ],
      "execution_count": null,
      "outputs": [
        {
          "output_type": "stream",
          "text": [
            "TRAIN: 46905 TEST: 5212 "
          ],
          "name": "stdout"
        }
      ]
    },
    {
      "cell_type": "code",
      "metadata": {
        "id": "7JIfl1Ina10b",
        "colab_type": "code",
        "colab": {
          "base_uri": "https://localhost:8080/",
          "height": 281
        },
        "outputId": "88b4df20-2b00-49cd-f7f9-fe2c159ba447"
      },
      "source": [
        "import matplotlib.pyplot as plt\n",
        "plt.plot(scores,scaley=False,color=\"b\")\n",
        "plt.title(\"KernelDensity KFOLD Cross Validation\")\n",
        "plt.savefig(\"/content/drive/My Drive/ModelliSalvati/Audio/Classificatori/KernelDensity.png\")\n",
        "import pickle\n",
        "filename = '/content/drive/My Drive/ModelliSalvati/Audio/Classificatori/KernelDensity.sav'\n",
        "pickle.dump(clf, open(filename, 'wb'))"
      ],
      "execution_count": 8,
      "outputs": [
        {
          "output_type": "display_data",
          "data": {
            "image/png": "[encoded data removed]",
            "text/plain": [
              "<Figure size 432x288 with 1 Axes>"
            ]
          },
          "metadata": {
            "tags": [],
            "needs_background": "light"
          }
        }
      ]
    },
    {
      "cell_type": "code",
      "metadata": {
        "id": "LTaLkXgSzGkC",
        "colab_type": "code",
        "colab": {
          "base_uri": "https://localhost:8080/",
          "height": 84
        },
        "outputId": "f2a297e1-6b53-4708-c7ca-22a112e3bb8f"
      },
      "source": [
        "clf = SVC(gamma='auto')\n",
        "clf.fit(x_train,y_train)"
      ],
      "execution_count": null,
      "outputs": [
        {
          "output_type": "execute_result",
          "data": {
            "text/plain": [
              "SVC(C=1.0, break_ties=False, cache_size=200, class_weight=None, coef0=0.0,\n",
              "    decision_function_shape='ovr', degree=3, gamma='auto', kernel='rbf',\n",
              "    max_iter=-1, probability=False, random_state=None, shrinking=True,\n",
              "    tol=0.001, verbose=False)"
            ]
          },
          "metadata": {
            "tags": []
          },
          "execution_count": 10
        }
      ]
    },
    {
      "cell_type": "code",
      "metadata": {
        "id": "IGPGGsz0bm7Y",
        "colab_type": "code",
        "colab": {}
      },
      "source": [
        "res = pd.DataFrame(data=[scores,scores-0.2])"
      ],
      "execution_count": null,
      "outputs": []
    },
    {
      "cell_type": "code",
      "metadata": {
        "id": "sAondmPLb22J",
        "colab_type": "code",
        "colab": {
          "base_uri": "https://localhost:8080/",
          "height": 84
        },
        "outputId": "c360cd17-ea73-43ac-de58-d3c954097abf"
      },
      "source": [
        ""
      ],
      "execution_count": null,
      "outputs": [
        {
          "output_type": "execute_result",
          "data": {
            "text/plain": [
              "[array([0.60019175, 0.59348035, 0.57813998, 0.59117083, 0.62955854,\n",
              "        0.62092131, 0.60556622, 0.63147793, 0.61228407, 0.61708253]),\n",
              " array([0.40019175, 0.39348035, 0.37813998, 0.39117083, 0.42955854,\n",
              "        0.42092131, 0.40556622, 0.43147793, 0.41228407, 0.41708253])]"
            ]
          },
          "metadata": {
            "tags": []
          },
          "execution_count": 19
        }
      ]
    },
    {
      "cell_type": "code",
      "metadata": {
        "id": "80A9lpvqbJ7S",
        "colab_type": "code",
        "colab": {
          "base_uri": "https://localhost:8080/",
          "height": 281
        },
        "outputId": "a59ed532-23d5-4a1e-ef50-202e3348953c"
      },
      "source": [
        "import matplotlib.pyplot as plt\n",
        "plt.plot(scores,scaley=False,color=\"b\")\n",
        "plt.title(\"SVM KFOLD Cross Validation\")\n",
        "plt.savefig(\"/content/drive/My Drive/ModelliSalvati/Audio/Classificatori/svm.png\")"
      ],
      "execution_count": null,
      "outputs": [
        {
          "output_type": "display_data",
          "data": {
            "image/png": "[encoded data removed]",
            "text/plain": [
              "<Figure size 432x288 with 1 Axes>"
            ]
          },
          "metadata": {
            "tags": [],
            "needs_background": "light"
          }
        }
      ]
    },
    {
      "cell_type": "code",
      "metadata": {
        "id": "rpCkgAJy00OH",
        "colab_type": "code",
        "colab": {}
      },
      "source": [
        "# save the model to disk\n",
        "import pickle\n",
        "filename = '/content/drive/My Drive/ModelliSalvati/Audio/Classificatori/svm.sav'\n",
        "pickle.dump(clf, open(filename, 'wb'))"
      ],
      "execution_count": null,
      "outputs": []
    },
    {
      "cell_type": "code",
      "metadata": {
        "id": "Q6GQqeAkW4HA",
        "colab_type": "code",
        "colab": {}
      },
      "source": [
        "from numpy import array\n",
        "from sklearn.model_selection import KFold\n",
        "\n",
        "# def kfoldcv(classifier):\n",
        "kf = KFold(n_splits=10,shuffle=True,random_state=43)\n",
        "kf.get_n_splits(x) # RIMETTERE x PER CONSIDERARE TUTTO IL DATASET \n",
        "scores = []\n",
        "for train_index, test_index in kf.split(x):\n",
        "    print(\"TRAIN:\", len(train_index), \"TEST:\", len(test_index), end=\" \")\n",
        "    x_train_cv, x_test_cv = x[train_index], x[test_index]\n",
        "    y_train_cv, y_test_cv = y.iloc[train_index], y.iloc[test_index]\n",
        "    # clf = classifier.fit(x_train_cv,y_train_cv)\n",
        "    model = getNewModel()\n",
        "    model.compile(loss=\"sparse_categorical_crossentropy\", optimizer='sgd', metrics=['accuracy'])\n",
        "    model.fit(x_train_cv,  y_train_cv, epochs=65)\n",
        "    s = model.evaluate(x_test_cv, y_test_cv, verbose=0)\n",
        "    scores.append(s)\n",
        "    modelli.append(model)\n",
        "    print(s)\n",
        "print(scores)"
      ],
      "execution_count": null,
      "outputs": []
    },
    {
      "cell_type": "code",
      "metadata": {
        "id": "sAHvwTx9loeE",
        "colab_type": "code",
        "colab": {}
      },
      "source": [
        "from sklearn.svm import SVC\n",
        "from sklearn.pipeline import make_pipeline\n",
        "from sklearn.preprocessing import StandardScaler\n",
        "clf = make_pipeline(StandardScaler(), SVC(gamma='auto'))\n",
        "clf = clf.fit(x_train, y_train)"
      ],
      "execution_count": null,
      "outputs": []
    },
    {
      "cell_type": "code",
      "metadata": {
        "id": "P8d4wyTLrtC4",
        "colab_type": "code",
        "colab": {}
      },
      "source": [
        "clf.score(x_test,y_test)"
      ],
      "execution_count": null,
      "outputs": []
    },
    {
      "cell_type": "code",
      "metadata": {
        "id": "6ice-GAnm6_v",
        "colab_type": "code",
        "colab": {}
      },
      "source": [
        "print(\"Done!\")"
      ],
      "execution_count": null,
      "outputs": []
    }
  ]
}